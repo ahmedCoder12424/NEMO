{
 "cells": [
  {
   "cell_type": "code",
   "execution_count": 1,
   "id": "a445f9d7-352c-4781-b082-e4c0d364b942",
   "metadata": {},
   "outputs": [],
   "source": [
    "import easyocr"
   ]
  },
  {
   "cell_type": "code",
   "execution_count": 6,
   "id": "7104c9a6-7aac-43f1-80c9-885fd2fa91a0",
   "metadata": {},
   "outputs": [],
   "source": [
    "from dateutil import parser"
   ]
  },
  {
   "cell_type": "code",
   "execution_count": 3,
   "id": "2d2ecb6e-db5c-4ce7-bbbe-5c2c76ea4676",
   "metadata": {},
   "outputs": [
    {
     "name": "stderr",
     "output_type": "stream",
     "text": [
      "Neither CUDA nor MPS are available - defaulting to CPU. Note: This module is much faster with a GPU.\n"
     ]
    }
   ],
   "source": [
    "# Create an OCR reader object\n",
    "reader = easyocr.Reader(['en'])"
   ]
  },
  {
   "cell_type": "code",
   "execution_count": 2,
   "id": "2d024a54-9907-43ba-bb6c-62a78eb5d14d",
   "metadata": {},
   "outputs": [],
   "source": [
    "img_link = 'https://scontent.cdninstagram.com/v/t51.29350-15/447138361_996521805156846_304299870215985838_n.heic?stp=dst-jpg_e35&efg=eyJ2ZW5jb2RlX3RhZyI6ImltYWdlX3VybGdlbi4xMDgweDEwODAuc2RyLmYyOTM1MCJ9&_nc_ht=scontent.cdninstagram.com&_nc_cat=106&_nc_ohc=_GcHdwPUt80Q7kNvgFA61oy&edm=APs17CUBAAAA&ccb=7-5&ig_cache_key=MzM4MDM4OTk0NDc3Nzg0MDY3Ng%3D%3D.2-ccb7-5&oh=00_AYBP7DqE2KPiGJNnS1PyuOvWscf-hb97xCajcWZZwJ4lxQ&oe=666019C9&_nc_sid=10d13b'"
   ]
  },
  {
   "cell_type": "code",
   "execution_count": 3,
   "id": "d3a1d531-4b2a-4dbb-a827-b03eecbea6d9",
   "metadata": {},
   "outputs": [
    {
     "name": "stderr",
     "output_type": "stream",
     "text": [
      "Neither CUDA nor MPS are available - defaulting to CPU. Note: This module is much faster with a GPU.\n",
      "Downloading detection model, please wait. This may take several minutes depending upon your network connection.\n"
     ]
    },
    {
     "name": "stdout",
     "output_type": "stream",
     "text": [
      "Progress: |██████████████████████████████████████████████████| 100.0% Complete"
     ]
    },
    {
     "name": "stderr",
     "output_type": "stream",
     "text": [
      "Downloading recognition model, please wait. This may take several minutes depending upon your network connection.\n"
     ]
    },
    {
     "name": "stdout",
     "output_type": "stream",
     "text": [
      "Progress: |██████████████████████████████████████████████████| 101.2% CompleteTriton Transfer Hub\n",
      "UCSan Dicgp\n",
      "TRITON\n",
      "TRANSFERS\n",
      "ANNOUNCEMENT:\n",
      "The Transfer Hub will close early on\n",
      "Wednesday (6/5) at 4pm\n",
      "Open Hours:\n",
      "9.00am-4.0Opm\n",
      "Mon\n",
      "Tues, Thurs-Friday; normal\n",
      "hours will resume\n",
      "Questions? email tritontransfers@ucsdedu\n"
     ]
    }
   ],
   "source": [
    "# Read text from an image\n",
    "result = reader.readtext(img_link)\n",
    "\n",
    "# Print the extracted text\n",
    "for detection in result:\n",
    "    print(detection[1])"
   ]
  },
  {
   "cell_type": "code",
   "execution_count": 13,
   "id": "0507a5f5-a60c-48ba-b2d0-cad281b03a4d",
   "metadata": {},
   "outputs": [
    {
     "name": "stdout",
     "output_type": "stream",
     "text": [
      "Progress: |██████████████████████████████████████████████████| 102.0% Complete\n",
      "CSE 0.9927159742715699\n",
      "GRADUATION 0.7378144884982748\n",
      "CELEBRATIO N 0.7056880765395543\n",
      "Debugging 0.9999624884584403\n",
      "to 0.9991054239413065\n",
      "the 0.9999947754209193\n",
      "finish 0.9968446805722823\n",
      "Iine ! 0.6027478750830105\n",
      "June 7, 2024 | 2 - 4 PM 0.586276367318982\n",
      "Atkinson & Bear Courtyards 0.6871413724861625\n",
      "SECURE YOUR TICKET TODAY & VISIT OUR WEBPAGE FOR MORE 0.6782843666018067\n",
      "INFORMATION: CSEDEBUG.UCSD.EDU 0.8842576690693644\n",
      "Tickets for this event are for graduating CSE undergraduate majors only. 0.7750089872393713\n"
     ]
    }
   ],
   "source": [
    "#img_link = 'https://scontent.cdninstagram.com/v/t39.30808-6/447203360_18433368178005719_3433389476175465177_n.jpg?stp=dst-jpg_e35&efg=eyJ2ZW5jb2RlX3RhZyI6ImltYWdlX3VybGdlbi43OTl4Nzk5LnNkci5mMzA4MDgifQ&_nc_ht=scontent.cdninstagram.com&_nc_cat=111&_nc_ohc=ZLl-HwjUeY8Q7kNvgHNkT6X&edm=APs17CUAAAAA&ccb=7-5&ig_cache_key=MzM4MDM3ODI2NDk2NjU5NjgxMQ%3D%3D.2-ccb7-5&oh=00_AYAAnaxhzXCEVeCaUc6EAgy0UJNvz9jfiNthY-Eo0OYK0g&oe=666013AD&_nc_sid=10d13b'\n",
    "img_link = 'https://scontent.cdninstagram.com/v/t51.29350-15/447187845_833035132055384_2169222700694137159_n.jpg?stp=dst-jpg_e35&efg=eyJ2ZW5jb2RlX3RhZyI6ImltYWdlX3VybGdlbi4xNDQweDE0NDAuc2RyLmYyOTM1MCJ9&_nc_ht=scontent.cdninstagram.com&_nc_cat=108&_nc_ohc=4fnW4GIfT9cQ7kNvgG6CA73&edm=APs17CUBAAAA&ccb=7-5&ig_cache_key=MzM4MDM3MTM2MDg5MDY4MzMzOQ%3D%3D.2-ccb7-5&oh=00_AYDtUocws1vfDwX_yHmiQwfJUw3BYhWQtjy_s0kx8sMLag&oe=66600A9D&_nc_sid=10d13b'\n",
    "\n",
    "result = reader.readtext(img_link)\n",
    "\n",
    "print()\n",
    "\n",
    "img_text = \"\"\n",
    "\n",
    "for detection in result:\n",
    "    if detection[2] > 0:\n",
    "        img_text += detection[1] + ' '\n",
    "        print(detection[1], detection[2])\n",
    "\n",
    "# print(img_text)"
   ]
  },
  {
   "cell_type": "code",
   "execution_count": 15,
   "id": "7c0550ee-0e68-4ad9-8329-4f9264ebab23",
   "metadata": {},
   "outputs": [
    {
     "data": {
      "text/plain": [
       "False"
      ]
     },
     "execution_count": 15,
     "metadata": {},
     "output_type": "execute_result"
    }
   ],
   "source": [
    "'food' in img_text"
   ]
  },
  {
   "cell_type": "code",
   "execution_count": 4,
   "id": "4c5f34c6-139c-489a-9d9b-990f7872de47",
   "metadata": {},
   "outputs": [],
   "source": [
    "food_events = []"
   ]
  },
  {
   "cell_type": "code",
   "execution_count": 5,
   "id": "a6e0115a-766e-435f-b1cc-47a9100be066",
   "metadata": {},
   "outputs": [],
   "source": [
    "keywords = ['free', 'chipotle', 'food', 'snack', 'boba', 'tea', 'sandwich', 'pizza', 'donut']"
   ]
  },
  {
   "cell_type": "code",
   "execution_count": null,
   "id": "59e4ac2b-a440-4dee-8316-5b0f74f53acc",
   "metadata": {},
   "outputs": [],
   "source": [
    "text = ''\n",
    "img_link = 'https://scontent.cdninstagram.com/v/t51.29350-15/447187845_833035132055384_2169222700694137159_n.jpg?stp=dst-jpg_e35&efg=eyJ2ZW5jb2RlX3RhZyI6ImltYWdlX3VybGdlbi4xNDQweDE0NDAuc2RyLmYyOTM1MCJ9&_nc_ht=scontent.cdninstagram.com&_nc_cat=108&_nc_ohc=4fnW4GIfT9cQ7kNvgG6CA73&edm=APs17CUBAAAA&ccb=7-5&ig_cache_key=MzM4MDM3MTM2MDg5MDY4MzMzOQ%3D%3D.2-ccb7-5&oh=00_AYDtUocws1vfDwX_yHmiQwfJUw3BYhWQtjy_s0kx8sMLag&oe=66600A9D&_nc_sid=10d13b'\n",
    "\n",
    "img_text = ''\n",
    "\n",
    "# image reading for text\n",
    "result = reader.readtext(img_link)\n",
    "for detection in result:\n",
    "    if detection[2] > 0:\n",
    "        img_text += detection[1] + ' '\n",
    "\n",
    "# keyword detection\n",
    "any(word in 'snack'.lower() for word in keywords)"
   ]
  },
  {
   "cell_type": "code",
   "execution_count": 35,
   "id": "c61bca5e-1f74-4961-9a4b-c66430eee7b0",
   "metadata": {},
   "outputs": [
    {
     "name": "stdout",
     "output_type": "stream",
     "text": [
      "yo\n"
     ]
    }
   ],
   "source": [
    "try:\n",
    "    print(str(parser.parse(\"My 12 Date of Birth and 6/9/24\", fuzzy=True))[:10])\n",
    "except ValueError:\n",
    "    print('yo')"
   ]
  }
 ],
 "metadata": {
  "kernelspec": {
   "display_name": "Python 3 (ipykernel)",
   "language": "python",
   "name": "python3"
  },
  "language_info": {
   "codemirror_mode": {
    "name": "ipython",
    "version": 3
   },
   "file_extension": ".py",
   "mimetype": "text/x-python",
   "name": "python",
   "nbconvert_exporter": "python",
   "pygments_lexer": "ipython3",
   "version": "3.9.12"
  }
 },
 "nbformat": 4,
 "nbformat_minor": 5
}
