{
 "cells": [
  {
   "cell_type": "code",
   "execution_count": null,
   "id": "f0ba5271",
   "metadata": {},
   "outputs": [],
   "source": [
    "\n",
    "captions = driver.find_elements_by_xpath('//td[@class=\"_ap3a _aaco _aacu _aacx _aad7 _aade\"]')\n",
    "images = driver.find_elements_by_xpath('//td[@class=\"_aagv \"]')\n",
    "usernames = driver.find_elements_by_xpath('//td[@class=\"_ap3a _aaco _aacw _aacx _aad7 _aade\"]')"
   ]
  }
 ],
 "metadata": {
  "kernelspec": {
   "display_name": "Python 3 (ipykernel)",
   "language": "python",
   "name": "python3"
  },
  "language_info": {
   "codemirror_mode": {
    "name": "ipython",
    "version": 3
   },
   "file_extension": ".py",
   "mimetype": "text/x-python",
   "name": "python",
   "nbconvert_exporter": "python",
   "pygments_lexer": "ipython3",
   "version": "3.9.12"
  }
 },
 "nbformat": 4,
 "nbformat_minor": 5
}
