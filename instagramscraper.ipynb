{
 "cells": [
  {
   "cell_type": "code",
   "execution_count": 99,
   "id": "cf2c6376",
   "metadata": {},
   "outputs": [],
   "source": [
    "from selenium import webdriver\n",
    "from webdriver_manager.chrome import ChromeDriverManager\n",
    "from selenium.webdriver.support.wait import WebDriverWait\n",
    "from selenium.webdriver.support import expected_conditions as EC\n",
    "from selenium.webdriver.common.by import By\n",
    "import random\n",
    "import time"
   ]
  },
  {
   "cell_type": "code",
   "execution_count": 93,
   "id": "5722e231",
   "metadata": {},
   "outputs": [],
   "source": [
    "options=webdriver.ChromeOptions()\n",
    "#options.add_argument('--headless-new') #open browser in background\n",
    "driver = webdriver.Chrome(ChromeDriverManager().install(), options=options)\n",
    "driver.get('https://www.instagram.com')"
   ]
  },
  {
   "cell_type": "code",
   "execution_count": 94,
   "id": "0e9dff85",
   "metadata": {},
   "outputs": [],
   "source": [
    "username = WebDriverWait(driver, 10).until(EC.element_to_be_clickable((By.CSS_SELECTOR, \"input[name='username']\")))\n",
    "password = WebDriverWait(driver, 10).until(EC.element_to_be_clickable((By.CSS_SELECTOR, \"input[name='password']\")))\n",
    "username.clear()\n",
    "password.clear()\n",
    "username.send_keys('folsomfatties69')\n",
    "password.send_keys('neVermo69$')"
   ]
  },
  {
   "cell_type": "code",
   "execution_count": 95,
   "id": "22344d7b",
   "metadata": {},
   "outputs": [],
   "source": [
    "log_in = WebDriverWait(driver, 10).until(EC.element_to_be_clickable((By.CSS_SELECTOR, \"button[type='submit']\"))).click()"
   ]
  },
  {
   "cell_type": "code",
   "execution_count": 80,
   "id": "443d7691",
   "metadata": {},
   "outputs": [],
   "source": [
    "with open('club_instagrams.txt') as f:\n",
    "    accounts = f.readlines()"
   ]
  },
  {
   "cell_type": "code",
   "execution_count": 82,
   "id": "78217895",
   "metadata": {},
   "outputs": [],
   "source": [
    "accounts = [a.replace('\\n', '') for a in accounts]"
   ]
  },
  {
   "cell_type": "code",
   "execution_count": 97,
   "id": "6a5ad108",
   "metadata": {},
   "outputs": [],
   "source": [
    "for a in accounts:\n",
    "    time.sleep(random.randrange(0, 10, 1))\n",
    "    driver.get('https://www.instagram.com/' + a)\n",
    "    time.sleep(random.randrange(0, 10, 1))\n",
    "    try:\n",
    "        follow = WebDriverWait(driver, 10).until(EC.element_to_be_clickable((By.CSS_SELECTOR, \"button[type='button']\"))).click()\n",
    "    except:\n",
    "        continue"
   ]
  },
  {
   "cell_type": "code",
   "execution_count": null,
   "id": "7625e9a3",
   "metadata": {},
   "outputs": [],
   "source": []
  }
 ],
 "metadata": {
  "kernelspec": {
   "display_name": "Python 3 (ipykernel)",
   "language": "python",
   "name": "python3"
  },
  "language_info": {
   "codemirror_mode": {
    "name": "ipython",
    "version": 3
   },
   "file_extension": ".py",
   "mimetype": "text/x-python",
   "name": "python",
   "nbconvert_exporter": "python",
   "pygments_lexer": "ipython3",
   "version": "3.10.9"
  }
 },
 "nbformat": 4,
 "nbformat_minor": 5
}
