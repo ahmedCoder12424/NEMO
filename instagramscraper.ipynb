{
 "cells": [
  {
   "cell_type": "code",
   "execution_count": 1,
   "id": "cf2c6376",
   "metadata": {},
   "outputs": [],
   "source": [
    "from selenium import webdriver\n",
    "from webdriver_manager.chrome import ChromeDriverManager\n",
    "from selenium.webdriver.support.wait import WebDriverWait\n",
    "from selenium.webdriver.support import expected_conditions as EC\n",
    "from selenium.webdriver.common.by import By\n",
    "import random\n",
    "import time"
   ]
  },
  {
   "cell_type": "code",
   "execution_count": 2,
   "id": "5722e231",
   "metadata": {},
   "outputs": [],
   "source": [
    "options=webdriver.ChromeOptions()\n",
    "#options.add_argument('--headless-new') #open browser in background\n",
    "driver = webdriver.Chrome(options=options)\n",
    "driver.get('https://www.instagram.com')"
   ]
  },
  {
   "cell_type": "code",
   "execution_count": 3,
   "id": "0e9dff85",
   "metadata": {},
   "outputs": [],
   "source": [
    "username = WebDriverWait(driver, 10).until(EC.element_to_be_clickable((By.CSS_SELECTOR, \"input[name='username']\")))\n",
    "password = WebDriverWait(driver, 10).until(EC.element_to_be_clickable((By.CSS_SELECTOR, \"input[name='password']\")))\n",
    "username.clear()\n",
    "password.clear()\n",
    "username.send_keys('folsomfatties69')\n",
    "time.sleep(0.5)\n",
    "password.send_keys('neVermo69$')"
   ]
  },
  {
   "cell_type": "code",
   "execution_count": 4,
   "id": "22344d7b",
   "metadata": {},
   "outputs": [],
   "source": [
    "log_in = WebDriverWait(driver, 10).until(EC.element_to_be_clickable((By.CSS_SELECTOR, \"button[type='submit']\"))).click()"
   ]
  },
  {
   "cell_type": "code",
   "execution_count": 5,
   "id": "7794f997",
   "metadata": {},
   "outputs": [],
   "source": [
    "popup = WebDriverWait(driver, 10).until(EC.element_to_be_clickable((By.CSS_SELECTOR, \"div[tabindex='0']\"))).click()\n",
    "time.sleep(0.5)\n",
    "popup2 = WebDriverWait(driver, 10).until(EC.element_to_be_clickable((By.CSS_SELECTOR, \"button[class='_a9-- _ap36 _a9_1']\"))).click()"
   ]
  },
  {
   "cell_type": "code",
   "execution_count": 8,
   "id": "443d7691",
   "metadata": {},
   "outputs": [],
   "source": [
    "with open('club_instagrams.txt') as f:\n",
    "    accounts = f.readlines()"
   ]
  },
  {
   "cell_type": "code",
   "execution_count": 9,
   "id": "2ee95ebb",
   "metadata": {},
   "outputs": [],
   "source": [
    "accounts = [a.replace('\\n', '') for a in accounts]"
   ]
  },
  {
   "cell_type": "code",
   "execution_count": 10,
   "id": "553785bd",
   "metadata": {},
   "outputs": [
    {
     "ename": "KeyboardInterrupt",
     "evalue": "",
     "output_type": "error",
     "traceback": [
      "\u001b[0;31m---------------------------------------------------------------------------\u001b[0m",
      "\u001b[0;31mKeyboardInterrupt\u001b[0m                         Traceback (most recent call last)",
      "Cell \u001b[0;32mIn[10], line 2\u001b[0m\n\u001b[1;32m      1\u001b[0m \u001b[38;5;28;01mfor\u001b[39;00m a \u001b[38;5;129;01min\u001b[39;00m accounts[\u001b[38;5;241m25\u001b[39m:]:\n\u001b[0;32m----> 2\u001b[0m     \u001b[43mtime\u001b[49m\u001b[38;5;241;43m.\u001b[39;49m\u001b[43msleep\u001b[49m\u001b[43m(\u001b[49m\u001b[43mrandom\u001b[49m\u001b[38;5;241;43m.\u001b[39;49m\u001b[43mrandrange\u001b[49m\u001b[43m(\u001b[49m\u001b[38;5;241;43m10\u001b[39;49m\u001b[43m,\u001b[49m\u001b[43m \u001b[49m\u001b[38;5;241;43m30\u001b[39;49m\u001b[43m,\u001b[49m\u001b[43m \u001b[49m\u001b[38;5;241;43m1\u001b[39;49m\u001b[43m)\u001b[49m\u001b[43m)\u001b[49m\n\u001b[1;32m      3\u001b[0m     driver\u001b[38;5;241m.\u001b[39mget(\u001b[38;5;124m'\u001b[39m\u001b[38;5;124mhttps://www.instagram.com/\u001b[39m\u001b[38;5;124m'\u001b[39m \u001b[38;5;241m+\u001b[39m a)\n\u001b[1;32m      4\u001b[0m     time\u001b[38;5;241m.\u001b[39msleep(random\u001b[38;5;241m.\u001b[39mrandrange(\u001b[38;5;241m3\u001b[39m, \u001b[38;5;241m10\u001b[39m, \u001b[38;5;241m1\u001b[39m))\n",
      "\u001b[0;31mKeyboardInterrupt\u001b[0m: "
     ]
    }
   ],
   "source": [
    "for a in accounts[25:]:\n",
    "    time.sleep(random.randrange(10, 30, 1))\n",
    "    driver.get('https://www.instagram.com/' + a)\n",
    "    time.sleep(random.randrange(3, 10, 1))\n",
    "    try:\n",
    "        follow = WebDriverWait(driver, 10).until(EC.element_to_be_clickable((By.CSS_SELECTOR, \"button[type='button']\"))).click()\n",
    "    except:\n",
    "        continue"
   ]
  },
  {
   "cell_type": "code",
   "execution_count": null,
   "id": "4ffd3403",
   "metadata": {},
   "outputs": [],
   "source": []
  }
 ],
 "metadata": {
  "kernelspec": {
   "display_name": "Python 3 (ipykernel)",
   "language": "python",
   "name": "python3"
  },
  "language_info": {
   "codemirror_mode": {
    "name": "ipython",
    "version": 3
   },
   "file_extension": ".py",
   "mimetype": "text/x-python",
   "name": "python",
   "nbconvert_exporter": "python",
   "pygments_lexer": "ipython3",
   "version": "3.10.9"
  }
 },
 "nbformat": 4,
 "nbformat_minor": 5
}
