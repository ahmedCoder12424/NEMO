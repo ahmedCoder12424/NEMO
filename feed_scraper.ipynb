{
 "cells": [
  {
   "cell_type": "code",
   "execution_count": 1,
   "id": "768780be",
   "metadata": {},
   "outputs": [],
   "source": [
    "from selenium import webdriver\n",
    "\n",
    "from webdriver_manager.chrome import ChromeDriverManager\n",
    "from selenium.webdriver.support.wait import WebDriverWait\n",
    "from selenium.webdriver.support import expected_conditions as EC\n",
    "from selenium.webdriver.common.by import By\n",
    "import random\n",
    "import time"
   ]
  },
  {
   "cell_type": "code",
   "execution_count": 2,
   "id": "0f2c010e",
   "metadata": {},
   "outputs": [],
   "source": [
    "options=webdriver.ChromeOptions()\n",
    "#options.add_argument('--headless-new') #open browser in background\n",
    "driver = webdriver.Chrome(options=options)\n",
    "driver.get('https://www.instagram.com')"
   ]
  },
  {
   "cell_type": "code",
   "execution_count": 3,
   "id": "8d6a77ef",
   "metadata": {},
   "outputs": [],
   "source": [
    "username = WebDriverWait(driver, 10).until(EC.element_to_be_clickable((By.CSS_SELECTOR, \"input[name='username']\")))\n",
    "password = WebDriverWait(driver, 10).until(EC.element_to_be_clickable((By.CSS_SELECTOR, \"input[name='password']\")))\n",
    "username.clear()\n",
    "password.clear()\n",
    "username.send_keys('folsomfatties69')\n",
    "time.sleep(0.5)\n",
    "password.send_keys('fattyPatties31$')"
   ]
  },
  {
   "cell_type": "code",
   "execution_count": 4,
   "id": "0a54f85c",
   "metadata": {},
   "outputs": [
    {
     "ename": "TimeoutException",
     "evalue": "Message: \nStacktrace:\n0   chromedriver                        0x000000010fae0a78 chromedriver + 5216888\n1   chromedriver                        0x000000010fad86b3 chromedriver + 5183155\n2   chromedriver                        0x000000010f64a527 chromedriver + 406823\n3   chromedriver                        0x000000010f695ff2 chromedriver + 716786\n4   chromedriver                        0x000000010f696181 chromedriver + 717185\n5   chromedriver                        0x000000010f6da1d4 chromedriver + 995796\n6   chromedriver                        0x000000010f6b872d chromedriver + 857901\n7   chromedriver                        0x000000010f6d76bf chromedriver + 984767\n8   chromedriver                        0x000000010f6b84a3 chromedriver + 857251\n9   chromedriver                        0x000000010f688fe3 chromedriver + 663523\n10  chromedriver                        0x000000010f68992e chromedriver + 665902\n11  chromedriver                        0x000000010fa9e990 chromedriver + 4946320\n12  chromedriver                        0x000000010faa4a44 chromedriver + 4971076\n13  chromedriver                        0x000000010fa7f48e chromedriver + 4818062\n14  chromedriver                        0x000000010faa5559 chromedriver + 4973913\n15  chromedriver                        0x000000010fa6f714 chromedriver + 4753172\n16  chromedriver                        0x000000010fac7c08 chromedriver + 5114888\n17  chromedriver                        0x000000010fac7dc7 chromedriver + 5115335\n18  chromedriver                        0x000000010fad82d3 chromedriver + 5182163\n19  libsystem_pthread.dylib             0x00007fff68f56109 _pthread_start + 148\n20  libsystem_pthread.dylib             0x00007fff68f51b8b thread_start + 15\n",
     "output_type": "error",
     "traceback": [
      "\u001b[0;31m---------------------------------------------------------------------------\u001b[0m",
      "\u001b[0;31mTimeoutException\u001b[0m                          Traceback (most recent call last)",
      "Input \u001b[0;32mIn [4]\u001b[0m, in \u001b[0;36m<cell line: 4>\u001b[0;34m()\u001b[0m\n\u001b[1;32m      2\u001b[0m popup \u001b[38;5;241m=\u001b[39m WebDriverWait(driver, \u001b[38;5;241m10\u001b[39m)\u001b[38;5;241m.\u001b[39muntil(EC\u001b[38;5;241m.\u001b[39melement_to_be_clickable((By\u001b[38;5;241m.\u001b[39mCSS_SELECTOR, \u001b[38;5;124m\"\u001b[39m\u001b[38;5;124mdiv[tabindex=\u001b[39m\u001b[38;5;124m'\u001b[39m\u001b[38;5;124m0\u001b[39m\u001b[38;5;124m'\u001b[39m\u001b[38;5;124m]\u001b[39m\u001b[38;5;124m\"\u001b[39m)))\u001b[38;5;241m.\u001b[39mclick()\n\u001b[1;32m      3\u001b[0m time\u001b[38;5;241m.\u001b[39msleep(\u001b[38;5;241m0.5\u001b[39m)\n\u001b[0;32m----> 4\u001b[0m popup2 \u001b[38;5;241m=\u001b[39m \u001b[43mWebDriverWait\u001b[49m\u001b[43m(\u001b[49m\u001b[43mdriver\u001b[49m\u001b[43m,\u001b[49m\u001b[43m \u001b[49m\u001b[38;5;241;43m10\u001b[39;49m\u001b[43m)\u001b[49m\u001b[38;5;241;43m.\u001b[39;49m\u001b[43muntil\u001b[49m\u001b[43m(\u001b[49m\u001b[43mEC\u001b[49m\u001b[38;5;241;43m.\u001b[39;49m\u001b[43melement_to_be_clickable\u001b[49m\u001b[43m(\u001b[49m\u001b[43m(\u001b[49m\u001b[43mBy\u001b[49m\u001b[38;5;241;43m.\u001b[39;49m\u001b[43mCSS_SELECTOR\u001b[49m\u001b[43m,\u001b[49m\u001b[43m \u001b[49m\u001b[38;5;124;43m\"\u001b[39;49m\u001b[38;5;124;43mbutton[class=\u001b[39;49m\u001b[38;5;124;43m'\u001b[39;49m\u001b[38;5;124;43m_a9-- _ap36 _a9_1\u001b[39;49m\u001b[38;5;124;43m'\u001b[39;49m\u001b[38;5;124;43m]\u001b[39;49m\u001b[38;5;124;43m\"\u001b[39;49m\u001b[43m)\u001b[49m\u001b[43m)\u001b[49m\u001b[43m)\u001b[49m\u001b[38;5;241m.\u001b[39mclick()\n",
      "File \u001b[0;32m~/opt/anaconda3/lib/python3.9/site-packages/selenium/webdriver/support/wait.py:105\u001b[0m, in \u001b[0;36mWebDriverWait.until\u001b[0;34m(self, method, message)\u001b[0m\n\u001b[1;32m    103\u001b[0m     \u001b[38;5;28;01mif\u001b[39;00m time\u001b[38;5;241m.\u001b[39mmonotonic() \u001b[38;5;241m>\u001b[39m end_time:\n\u001b[1;32m    104\u001b[0m         \u001b[38;5;28;01mbreak\u001b[39;00m\n\u001b[0;32m--> 105\u001b[0m \u001b[38;5;28;01mraise\u001b[39;00m TimeoutException(message, screen, stacktrace)\n",
      "\u001b[0;31mTimeoutException\u001b[0m: Message: \nStacktrace:\n0   chromedriver                        0x000000010fae0a78 chromedriver + 5216888\n1   chromedriver                        0x000000010fad86b3 chromedriver + 5183155\n2   chromedriver                        0x000000010f64a527 chromedriver + 406823\n3   chromedriver                        0x000000010f695ff2 chromedriver + 716786\n4   chromedriver                        0x000000010f696181 chromedriver + 717185\n5   chromedriver                        0x000000010f6da1d4 chromedriver + 995796\n6   chromedriver                        0x000000010f6b872d chromedriver + 857901\n7   chromedriver                        0x000000010f6d76bf chromedriver + 984767\n8   chromedriver                        0x000000010f6b84a3 chromedriver + 857251\n9   chromedriver                        0x000000010f688fe3 chromedriver + 663523\n10  chromedriver                        0x000000010f68992e chromedriver + 665902\n11  chromedriver                        0x000000010fa9e990 chromedriver + 4946320\n12  chromedriver                        0x000000010faa4a44 chromedriver + 4971076\n13  chromedriver                        0x000000010fa7f48e chromedriver + 4818062\n14  chromedriver                        0x000000010faa5559 chromedriver + 4973913\n15  chromedriver                        0x000000010fa6f714 chromedriver + 4753172\n16  chromedriver                        0x000000010fac7c08 chromedriver + 5114888\n17  chromedriver                        0x000000010fac7dc7 chromedriver + 5115335\n18  chromedriver                        0x000000010fad82d3 chromedriver + 5182163\n19  libsystem_pthread.dylib             0x00007fff68f56109 _pthread_start + 148\n20  libsystem_pthread.dylib             0x00007fff68f51b8b thread_start + 15\n"
     ]
    }
   ],
   "source": [
    "log_in = WebDriverWait(driver, 10).until(EC.element_to_be_clickable((By.CSS_SELECTOR, \"button[type='submit']\"))).click()\n",
    "popup = WebDriverWait(driver, 10).until(EC.element_to_be_clickable((By.CSS_SELECTOR, \"div[tabindex='0']\"))).click()\n",
    "time.sleep(0.5)\n",
    "popup2 = WebDriverWait(driver, 10).until(EC.element_to_be_clickable((By.CSS_SELECTOR, \"button[class='_a9-- _ap36 _a9_1']\"))).click()"
   ]
  },
  {
   "cell_type": "code",
   "execution_count": 24,
   "id": "9c6d65f9",
   "metadata": {},
   "outputs": [
    {
     "name": "stdout",
     "output_type": "stream",
     "text": [
      "YES\n",
      "ucsdugresearch\n",
      "ucsdugresearch\n",
      "chumba.casino\n",
      "chumba.casino\n",
      "ucsdroosevelt\n",
      "ucsdroosevelt\n",
      "revreslife\n",
      "revreslife\n",
      "ucsdccm\n",
      "ucsdccm\n",
      "Do you want to get involved with undergraduate research? Volunteer for the 2024 OURS conference and help showcase the... \n",
      "more\n",
      "Do you want to get involved with undergraduate research? Volunteer for the 2024 OURS conference and help showcase the\n",
      "Play for Free 🔥\n",
      "... \n",
      "more\n",
      "Play for Free 🔥\n",
      "Please join us for an ERC community Listening Space as we process recent events on Tuesday, May 14th from 3:00-4:00pm at... \n",
      "more\n",
      "Please join us for an ERC community Listening Space as we process recent events on Tuesday, May 14th from 3:00-4:00pm at\n",
      "Attention Residents:... \n",
      "more\n",
      "Attention Residents:\n",
      "Thank you so much to @el.pa.drino for your guidance and inspiration at tonight’s GBM💙💙 CCM wishes you the best of luck o... \n",
      "more\n",
      "Thank you so much to @el.pa.drino for your guidance and inspiration at tonight’s GBM💙💙 CCM wishes you the best of luck o\n",
      "https://scontent.cdninstagram.com/v/t51.29350-15/442458584_3280357648938161_2778151882407143936_n.jpg?stp=dst-jpg_e15&efg=eyJ2ZW5jb2RlX3RhZyI6ImltYWdlX3VybGdlbi4xMDgweDEwODAuc2RyLmYyOTM1MCJ9&_nc_ht=scontent.cdninstagram.com&_nc_cat=105&_nc_ohc=EHzmzSZ9ReEQ7kNvgFxpAAu&edm=APs17CUBAAAA&ccb=7-5&ig_cache_key=MzM2NDI2OTA3ODk2MDU4MDM5NA%3D%3D.2-ccb7-5&oh=00_AYATqSbtmBsiMfIJXccM3LVKebV8d7LlCLUk_KGZsn05qA&oe=664898F4&_nc_sid=10d13b\n",
      "https://scontent.cdninstagram.com/v/t51.2885-15/419056902_1499661027272081_5916620568932199329_n.jpg?stp=dst-jpg_e15&efg=eyJ2ZW5jb2RlX3RhZyI6ImltYWdlX3VybGdlbi4xMDgweDEwODAuc2RyLmYyODg1In0&_nc_ht=scontent.cdninstagram.com&_nc_cat=105&_nc_ohc=s2sSoOEKtW8Q7kNvgFIcXPA&edm=APs17CUBAAAA&ccb=7-5&ig_cache_key=MzI4MTMwNjAwMzEzNTAwMDM1MA%3D%3D.2-ccb7-5&oh=00_AYDwwfyQdyi0Uc-QqFlAbqFDnoOoVUV5Okaqyp9CJ_e-aA&oe=664877FA&_nc_sid=10d13b\n",
      "https://scontent.cdninstagram.com/v/t51.2885-15/419269699_338622832323275_7510424384246670155_n.jpg?stp=dst-jpg_e15&efg=eyJ2ZW5jb2RlX3RhZyI6ImltYWdlX3VybGdlbi4xMDgweDEwODAuc2RyLmYyODg1In0&_nc_ht=scontent.cdninstagram.com&_nc_cat=111&_nc_ohc=j16Ph2hhI-EQ7kNvgExKec3&edm=APs17CUBAAAA&ccb=7-5&ig_cache_key=MzI4MTMwNjAwMzQ0NTMyNzE1MA%3D%3D.2-ccb7-5&oh=00_AYCLDeMjRZJfDVcyIvPlhksIjhZ5mJHPxnJvSm-S8uqEcQ&oe=66487D8B&_nc_sid=10d13b\n",
      "https://scontent.cdninstagram.com/v/t51.29350-15/442678312_1493781197930671_709606800321102495_n.jpg?stp=dst-jpg_e35&efg=eyJ2ZW5jb2RlX3RhZyI6ImltYWdlX3VybGdlbi4xMDgweDEwODAuc2RyLmYyOTM1MCJ9&_nc_ht=scontent.cdninstagram.com&_nc_cat=107&_nc_ohc=uLP4yNJengkQ7kNvgGyt3pp&edm=APs17CUBAAAA&ccb=7-5&ig_cache_key=MzM2NzM4MzEzNTQyNjU0MzI1Mw%3D%3D.2-ccb7-5&oh=00_AYDOpI7UlNOrgQB0rs_cxzz1x318ziNSIp8UyUdxoAzvcA&oe=66488423&_nc_sid=10d13b\n",
      "https://scontent.cdninstagram.com/v/t51.29350-15/441546491_881097830440954_1072402074942285169_n.jpg?stp=dst-jpg_e35&efg=eyJ2ZW5jb2RlX3RhZyI6ImltYWdlX3VybGdlbi43NTB4NzQxLnNkci5mMjkzNTAifQ&_nc_ht=scontent.cdninstagram.com&_nc_cat=110&_nc_ohc=5xVNlHaFjccQ7kNvgErWmA7&edm=APs17CUBAAAA&ccb=7-5&ig_cache_key=MzM2MjA0MDk0Mjk5NzMwMDUxMg%3D%3D.2-ccb7-5&oh=00_AYBYcNqqdESFVMPagPtm9xiNAIFPcpt_6U7rPNb6a6CsBQ&oe=66489046&_nc_sid=10d13b\n",
      "https://scontent.cdninstagram.com/v/t51.29350-15/442677627_1651154068973677_1524937902377280119_n.jpg?stp=dst-jpg_e35&efg=eyJ2ZW5jb2RlX3RhZyI6ImltYWdlX3VybGdlbi4xNDQweDkzMC5zZHIuZjI5MzUwIn0&_nc_ht=scontent.cdninstagram.com&_nc_cat=101&_nc_ohc=ti5wu6l16i0Q7kNvgFMv2Kz&edm=APs17CUBAAAA&ccb=7-5&ig_cache_key=MzM2NDYyNzE4MjE0MjQ0NDQwNw%3D%3D.2-ccb7-5&oh=00_AYAxU_GAnKjTJS6oNn-lC2WaxhDep3yumGbfIhpYi269bg&oe=664875AD&_nc_sid=10d13b\n"
     ]
    }
   ],
   "source": [
    "\n",
    "html = driver.page_source\n",
    "\n",
    "if '_aagv' in html:\n",
    "    print(\"YES\")\n",
    "    \n",
    "else:\n",
    "    print(\"NO\")\n",
    "captions = driver.find_elements(By.CSS_SELECTOR, \"span[class='_ap3a _aaco _aacu _aacx _aad7 _aade']\")\n",
    "images = driver.find_elements(By.CSS_SELECTOR,\"div[class='_aagv']>img\")\n",
    "usernames = driver.find_elements(By.CSS_SELECTOR,\"span[class='_ap3a _aaco _aacw _aacx _aad7 _aade']\")\n",
    "\n",
    "for username in usernames:\n",
    "    print(username.text)\n",
    "    \n",
    "for caption in captions:\n",
    "    print(caption.text)\n",
    "    \n",
    "for image in images:\n",
    "    print(image.get_attribute('src'))\n",
    "\n",
    "\n"
   ]
  },
  {
   "cell_type": "code",
   "execution_count": null,
   "id": "690abad5",
   "metadata": {},
   "outputs": [],
   "source": []
  },
  {
   "cell_type": "code",
   "execution_count": null,
   "id": "6a721d5f",
   "metadata": {},
   "outputs": [],
   "source": []
  }
 ],
 "metadata": {
  "kernelspec": {
   "display_name": "Python 3 (ipykernel)",
   "language": "python",
   "name": "python3"
  },
  "language_info": {
   "codemirror_mode": {
    "name": "ipython",
    "version": 3
   },
   "file_extension": ".py",
   "mimetype": "text/x-python",
   "name": "python",
   "nbconvert_exporter": "python",
   "pygments_lexer": "ipython3",
   "version": "3.9.12"
  }
 },
 "nbformat": 4,
 "nbformat_minor": 5
}
