{
 "cells": [
  {
   "cell_type": "code",
   "execution_count": 2,
   "id": "768780be",
   "metadata": {},
   "outputs": [],
   "source": [
    "from selenium import webdriver\n",
    "from webdriver_manager.chrome import ChromeDriverManager\n",
    "from selenium.webdriver.support.wait import WebDriverWait\n",
    "from selenium.webdriver.support import expected_conditions as EC\n",
    "from selenium.webdriver.common.by import By\n",
    "import random\n",
    "import time"
   ]
  },
  {
   "cell_type": "code",
   "execution_count": 3,
   "id": "0f2c010e",
   "metadata": {},
   "outputs": [],
   "source": [
    "options=webdriver.ChromeOptions()\n",
    "#options.add_argument('--headless-new') #open browser in background\n",
    "driver = webdriver.Chrome(options=options)\n",
    "driver.get('https://www.instagram.com')"
   ]
  },
  {
   "cell_type": "code",
   "execution_count": null,
   "id": "8d6a77ef",
   "metadata": {},
   "outputs": [],
   "source": [
    "username = WebDriverWait(driver, 10).until(EC.element_to_be_clickable((By.CSS_SELECTOR, \"input[name='username']\")))\n",
    "password = WebDriverWait(driver, 10).until(EC.element_to_be_clickable((By.CSS_SELECTOR, \"input[name='password']\")))\n",
    "username.clear()\n",
    "password.clear()\n",
    "username.send_keys('folsomfatties69')\n",
    "time.sleep(0.5)\n",
    "password.send_keys('fattyPatties31$')"
   ]
  },
  {
   "cell_type": "code",
   "execution_count": null,
   "id": "9c6d65f9",
   "metadata": {},
   "outputs": [],
   "source": [
    "\n",
    "captions = driver.find_elements_by_xpath('//td[@class=\"_ap3a _aaco _aacu _aacx _aad7 _aade\"]')\n",
    "images = driver.find_elements_by_xpath('//td[@class=\"_aagv \"]')\n",
    "usernames = driver.find_elements_by_xpath('//td[@class=\"_ap3a _aaco _aacw _aacx _aad7 _aade\"]')"
   ]
  }
 ],
 "metadata": {
  "kernelspec": {
   "display_name": "Python 3 (ipykernel)",
   "language": "python",
   "name": "python3"
  },
  "language_info": {
   "codemirror_mode": {
    "name": "ipython",
    "version": 3
   },
   "file_extension": ".py",
   "mimetype": "text/x-python",
   "name": "python",
   "nbconvert_exporter": "python",
   "pygments_lexer": "ipython3",
   "version": "3.9.12"
  }
 },
 "nbformat": 4,
 "nbformat_minor": 5
}
