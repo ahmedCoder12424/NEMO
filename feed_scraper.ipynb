{
 "cells": [
  {
   "cell_type": "code",
   "execution_count": 1,
   "id": "768780be",
   "metadata": {},
   "outputs": [],
   "source": [
    "from selenium import webdriver\n",
    "\n",
    "from webdriver_manager.chrome import ChromeDriverManager\n",
    "from selenium.webdriver.support.wait import WebDriverWait\n",
    "from selenium.webdriver.support import expected_conditions as EC\n",
    "from selenium.webdriver.common.by import By\n",
    "import random\n",
    "import time"
   ]
  },
  {
   "cell_type": "code",
   "execution_count": 43,
   "id": "0f2c010e",
   "metadata": {},
   "outputs": [],
   "source": [
    "options=webdriver.ChromeOptions()\n",
    "#options.add_argument('--headless-new') #open browser in background\n",
    "driver = webdriver.Chrome(options=options)\n",
    "driver.get('https://www.instagram.com')"
   ]
  },
  {
   "cell_type": "code",
   "execution_count": 44,
   "id": "8d6a77ef",
   "metadata": {},
   "outputs": [],
   "source": [
    "username = WebDriverWait(driver, 10).until(EC.element_to_be_clickable((By.CSS_SELECTOR, \"input[name='username']\")))\n",
    "password = WebDriverWait(driver, 10).until(EC.element_to_be_clickable((By.CSS_SELECTOR, \"input[name='password']\")))\n",
    "username.clear()\n",
    "password.clear()\n",
    "username.send_keys('folsomfatties69')\n",
    "time.sleep(0.5)\n",
    "password.send_keys('fattyPatties31$')"
   ]
  },
  {
   "cell_type": "code",
   "execution_count": 45,
   "id": "0a54f85c",
   "metadata": {},
   "outputs": [],
   "source": [
    "log_in = WebDriverWait(driver, 10).until(EC.element_to_be_clickable((By.CSS_SELECTOR, \"button[type='submit']\"))).click()\n",
    "time.sleep(3)\n",
    "popup = WebDriverWait(driver, 10).until(EC.element_to_be_clickable((By.CSS_SELECTOR, \"div[tabindex='0']\"))).click()\n",
    "time.sleep(0.5)\n",
    "popup2 = WebDriverWait(driver, 10).until(EC.element_to_be_clickable((By.CSS_SELECTOR, \"button[class='_a9-- _ap36 _a9_1']\"))).click()\n",
    "driver.get('https://www.instagram.com/?variant=following')"
   ]
  },
  {
   "cell_type": "code",
   "execution_count": 46,
   "id": "9c6d65f9",
   "metadata": {},
   "outputs": [
    {
     "name": "stdout",
     "output_type": "stream",
     "text": [
      "ucsdroosevelt\n",
      "ucsdroosevelt\n",
      "folsomfatties69\n",
      "folsomfatties69\n",
      "sixthcollege\n",
      "sixthcollege\n",
      "alphaphiucsd\n",
      "alphaphiucsd\n",
      "Please join us for an ERC community Listening Space as we process recent events on Tuesday, May 14th from 3:00-4:00pm at the Great Hall. Snacks will be provided.\n",
      "Please join us for an ERC community Listening Space as we process recent events on Tuesday, May 14th from 3:00-4:00pm at the Great Hall. Snacks will be provided.\n",
      "Back in Folsom, let's go fatties!!!\n",
      "Back in Folsom, let's go fatties!!!\n",
      "In collaboration with the Cross-Cultural Center, join us on Tuesday, May 21 from 11 am to 12 pm as we engage in conversation and explore the concept of Imposter Syndrome and its recent discoveries revolving around the concept of rebranding it as an Imposter Phenomenon.\n",
      "\n",
      "Boba and egg rolls will be provided to the first 20 students and get a chance to win some CCC Swag at our giveaway.\n",
      "\n",
      "See you next week!\n",
      "In collaboration with the Cross-Cultural Center, join us on Tuesday, May 21 from 11 am to 12 pm as we engage in conversation and explore the concept of Imposter Syndrome and its recent discoveries revolving around the concept of rebranding it as an Imposter Phenomenon.\n",
      "\n",
      "Boba and egg rolls will be provided to the first 20 students and get a chance to win some CCC Swag at our giveaway.\n",
      "\n",
      "See you next week!\n",
      "Another week, another #newmembermonday! 🌟\n",
      "Here is what the beautiful @zellallucas has to say about her experience in Alpha Phi:\n",
      "\n",
      "“My name is Zella and I’m a first year studying psychology & international business. I’m from Minnesota & I love thrifting, music, and sunshine! I wasn’t originally intending on joining a sorority, but after seeing the amazing women and experiences Alpha Phi brings, I knew it was something I wanted to be a part of. Becoming a member was the best decision & I’m so grateful for the connections l’ve made with my sisters. I’m honored to be surrounded by so many smart, talented, and respectful women💚”\n",
      "\n",
      "👼🏼🫶🏻\n",
      "Another week, another #newmembermonday! 🌟\n",
      "Here is what the beautiful @zellallucas has to say about her experience in Alpha Phi:\n",
      "\n",
      "“My name is Zella and I’m a first year studying psychology & international business. I’m from Minnesota & I love thrifting, music, and sunshine! I wasn’t originally intending on joining a sorority, but after seeing the amazing women and experiences Alpha Phi brings, I knew it was something I wanted to be a part of. Becoming a member was the best decision & I’m so grateful for the connections l’ve made with my sisters. I’m honored to be surrounded by so many smart, talented, and respectful women💚”\n",
      "\n",
      "👼🏼🫶🏻\n",
      "https://scontent.cdninstagram.com/v/t51.29350-15/442678312_1493781197930671_709606800321102495_n.jpg?stp=dst-jpg_e35&efg=eyJ2ZW5jb2RlX3RhZyI6ImltYWdlX3VybGdlbi4xMDgweDEwODAuc2RyLmYyOTM1MCJ9&_nc_ht=scontent.cdninstagram.com&_nc_cat=107&_nc_ohc=uLP4yNJengkQ7kNvgE2KLo6&edm=APs17CUBAAAA&ccb=7-5&ig_cache_key=MzM2NzM4MzEzNTQyNjU0MzI1Mw%3D%3D.2-ccb7-5&oh=00_AYDmxcWU_5IFnf1PH8lMulUTwy076I-l5T1g8Nf4PTrg6A&oe=66488423&_nc_sid=10d13b\n",
      "https://scontent.cdninstagram.com/v/t51.29350-15/442650331_963681225217748_5227501672566131364_n.jpg?stp=dst-jpg_e15&efg=eyJ2ZW5jb2RlX3RhZyI6ImltYWdlX3VybGdlbi43MjB4NzIwLnNkci5mMjkzNTAifQ&_nc_ht=scontent.cdninstagram.com&_nc_cat=108&_nc_ohc=9foykjjogDYQ7kNvgFU8eNw&edm=APs17CUBAAAA&ccb=7-5&ig_cache_key=MzM2NzM1OTA5MDg0OTA4MDcwMg%3D%3D.2-ccb7-5&oh=00_AYAGnPJkttpXG5gk8R3LlJX94oOKoWaIabvAlDOFJTdNNg&oe=6648930E&_nc_sid=10d13b\n",
      "https://scontent.cdninstagram.com/v/t51.29350-15/442460099_961734048959754_6957621408182900877_n.heic?stp=dst-jpg_e35&efg=eyJ2ZW5jb2RlX3RhZyI6ImltYWdlX3VybGdlbi4xMDU0eDEwNTQuc2RyLmYyOTM1MCJ9&_nc_ht=scontent.cdninstagram.com&_nc_cat=106&_nc_ohc=im5F-GrdxtYQ7kNvgGRC3Or&edm=APs17CUBAAAA&ccb=7-5&ig_cache_key=MzM2NzM0OTQ3MTA1MzQ1NjIwMw%3D%3D.2-ccb7-5&oh=00_AYDZU_VFh1chTi-zLefRsqSeCV00I4Gra55MT-1VTQ93HA&oe=6648B65B&_nc_sid=10d13b\n",
      "https://scontent.cdninstagram.com/v/t51.29350-15/444153277_463711942799787_8642027663809871595_n.jpg?stp=dst-jpg_e35&efg=eyJ2ZW5jb2RlX3RhZyI6ImltYWdlX3VybGdlbi4xNDQweDE4MDAuc2RyLmYyOTM1MCJ9&_nc_ht=scontent.cdninstagram.com&_nc_cat=103&_nc_ohc=Rjzy4BY8JgkQ7kNvgEnoQxU&edm=APs17CUBAAAA&ccb=7-5&ig_cache_key=MzM2NzM0ODEwMTM3ODI0MDU4MA%3D%3D.2-ccb7-5&oh=00_AYD47aaKa0EdpFqkr_MF-FVGazz3lXRLBXZ5p0-FnrMKJA&oe=6648B46B&_nc_sid=10d13b\n",
      "https://scontent.cdninstagram.com/v/t51.29350-15/442562087_816013147078166_7804332846224973185_n.jpg?stp=dst-jpg_e35&efg=eyJ2ZW5jb2RlX3RhZyI6ImltYWdlX3VybGdlbi4xNDQweDE4MDAuc2RyLmYyOTM1MCJ9&_nc_ht=scontent.cdninstagram.com&_nc_cat=102&_nc_ohc=YsoQLsuNw_oQ7kNvgGNTUiN&edm=APs17CUBAAAA&ccb=7-5&ig_cache_key=MzM2NzM0ODEwMTM3ODQ1ODY1OA%3D%3D.2-ccb7-5&oh=00_AYCsW2Kdu9MYmKCS6bTD0BUmD94JetXIy0WrDz1bNLMLbg&oe=66489C6A&_nc_sid=10d13b\n"
     ]
    }
   ],
   "source": [
    "\n",
    "## this is code copied from online to scroll the feed. I created the superlists, captions, images, and usernames.\n",
    "## In each iteration of the loop, I find captions_batch, images_batch, usernames_batch which are data \n",
    "##for that scroll of the feed and then I extend these to the superlists. The problem is that .text doesn't work on\n",
    "### some of the elemenets when running the loop to scroll.\n",
    "\n",
    "'''\n",
    "prev_height = -1\n",
    "max_scrolls = 5\n",
    "scroll_count = 0\n",
    "\n",
    "captions = []\n",
    "images = []\n",
    "usernames = []\n",
    "'''\n",
    "\n",
    "\n",
    "'''while scroll_count < max_scrolls:\n",
    "    driver.execute_script(\"window.scrollTo(0, document.body.scrollHeight);\")\n",
    "    time.sleep(1)  # give some time for new results to load\n",
    "    new_height = driver.execute_script(\"return document.body.scrollHeight\")\n",
    "    if new_height == prev_height:\n",
    "        break\n",
    "    prev_height = new_height\n",
    "    scroll_count += 1\n",
    "  #  mores = driver.find_elements(By.CSS_SELECTOR, \"span[class='x1lliihq x1plvlek xryxfnj x1n2onr6 x193iq5w xeuugli x1fj9vlw x13faqbe x1vvkbs x1s928wv xhkezso x1gmr53x x1cpjm7i x1fgarty x1943h6x x1i0vuye xvs91rp xo1l8bm x1roi4f4 x1yc453h x10wh9bi x1wdrske x8viiok x18hxmgj']\")\n",
    "   # for more in mores:\n",
    "    #    m = WebDriverWait(driver, 10).until(EC.element_to_be_clickable((By.CSS_SELECTOR, \"span[class='x1lliihq x1plvlek xryxfnj x1n2onr6 x193iq5w xeuugli x1fj9vlw x13faqbe x1vvkbs x1s928wv xhkezso x1gmr53x x1cpjm7i x1fgarty x1943h6x x1i0vuye xvs91rp xo1l8bm x1roi4f4 x1yc453h x10wh9bi x1wdrske x8viiok x18hxmgj']\"))).click()\n",
    "\n",
    "    captions_batch = driver.find_elements(By.CSS_SELECTOR, \"span[class='_ap3a _aaco _aacu _aacx _aad7 _aade']\")\n",
    "    images_batch = driver.find_elements(By.CSS_SELECTOR,\"div[class='_aagv']>img\")\n",
    "    usernames_batch = driver.find_elements(By.CSS_SELECTOR,\"span[class='_ap3a _aaco _aacw _aacx _aad7 _aade']\")\n",
    "    captions.extend(captions_batch)\n",
    "    usernames.extend(usernames_batch)\n",
    "    images.extend(images_batch)\n",
    "   # for username in usernames_batch:\n",
    "     #   print(username.text)\n",
    "    \n",
    "   # for caption in captions_batch:\n",
    "     #   print(caption.text)\n",
    "    \n",
    "   # for image in images_batch:\n",
    "   #     print(image.get_attribute('src'))\n",
    "'''\n",
    "\n",
    "\n",
    "html = driver.page_source\n",
    "\n",
    "mores = driver.find_elements(By.CSS_SELECTOR, \"span[class='x1lliihq x1plvlek xryxfnj x1n2onr6 x193iq5w xeuugli x1fj9vlw x13faqbe x1vvkbs x1s928wv xhkezso x1gmr53x x1cpjm7i x1fgarty x1943h6x x1i0vuye xvs91rp xo1l8bm x1roi4f4 x1yc453h x10wh9bi x1wdrske x8viiok x18hxmgj']\")\n",
    "for more in mores:\n",
    "    m = WebDriverWait(driver, 10).until(EC.element_to_be_clickable((By.CSS_SELECTOR, \"span[class='x1lliihq x1plvlek xryxfnj x1n2onr6 x193iq5w xeuugli x1fj9vlw x13faqbe x1vvkbs x1s928wv xhkezso x1gmr53x x1cpjm7i x1fgarty x1943h6x x1i0vuye xvs91rp xo1l8bm x1roi4f4 x1yc453h x10wh9bi x1wdrske x8viiok x18hxmgj']\"))).click()\n",
    "\n",
    "captions = driver.find_elements(By.CSS_SELECTOR, \"span[class='_ap3a _aaco _aacu _aacx _aad7 _aade']\")\n",
    "images = driver.find_elements(By.CSS_SELECTOR,\"div[class='_aagv']>img\")\n",
    "usernames = driver.find_elements(By.CSS_SELECTOR,\"span[class='_ap3a _aaco _aacw _aacx _aad7 _aade']\")\n",
    "\n",
    "for username in usernames:\n",
    "    print(username.text)\n",
    "    \n",
    "for caption in captions:\n",
    "    print(caption.text)\n",
    "    \n",
    "for image in images:\n",
    "    print(image.get_attribute('src'))"
   ]
  },
  {
   "cell_type": "code",
   "execution_count": null,
   "id": "dd47e9c1-be58-49c2-a670-34d9f7ef4a98",
   "metadata": {},
   "outputs": [],
   "source": []
  },
  {
   "cell_type": "code",
   "execution_count": null,
   "id": "9b588cac",
   "metadata": {},
   "outputs": [],
   "source": []
  },
  {
   "cell_type": "code",
   "execution_count": null,
   "id": "9507628c",
   "metadata": {},
   "outputs": [],
   "source": []
  },
  {
   "cell_type": "code",
   "execution_count": null,
   "id": "6afa9a45",
   "metadata": {},
   "outputs": [],
   "source": []
  }
 ],
 "metadata": {
  "kernelspec": {
   "display_name": "Python 3 (ipykernel)",
   "language": "python",
   "name": "python3"
  },
  "language_info": {
   "codemirror_mode": {
    "name": "ipython",
    "version": 3
   },
   "file_extension": ".py",
   "mimetype": "text/x-python",
   "name": "python",
   "nbconvert_exporter": "python",
   "pygments_lexer": "ipython3",
   "version": "3.11.7"
  }
 },
 "nbformat": 4,
 "nbformat_minor": 5
}
