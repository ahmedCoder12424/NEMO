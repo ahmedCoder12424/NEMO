{
 "cells": [
  {
   "cell_type": "code",
   "execution_count": 1,
   "id": "768780be",
   "metadata": {},
   "outputs": [],
   "source": [
    "from selenium import webdriver\n",
    "\n",
    "# from webdriver_manager.chrome import ChromeDriverManager\n",
    "from selenium.webdriver.support.wait import WebDriverWait\n",
    "from selenium.webdriver.support import expected_conditions as EC\n",
    "from selenium.webdriver.common.by import By\n",
    "import random\n",
    "import time"
   ]
  },
  {
   "cell_type": "code",
   "execution_count": 2,
   "id": "0f2c010e",
   "metadata": {},
   "outputs": [],
   "source": [
    "options=webdriver.ChromeOptions()\n",
    "#options.add_argument('--headless-new') #open browser in background\n",
    "driver = webdriver.Chrome(options=options)\n",
    "driver.get('https://www.instagram.com')"
   ]
  },
  {
   "cell_type": "code",
   "execution_count": 3,
   "id": "8d6a77ef",
   "metadata": {},
   "outputs": [],
   "source": [
    "username = WebDriverWait(driver, 10).until(EC.element_to_be_clickable((By.CSS_SELECTOR, \"input[name='username']\")))\n",
    "password = WebDriverWait(driver, 10).until(EC.element_to_be_clickable((By.CSS_SELECTOR, \"input[name='password']\")))\n",
    "username.clear()\n",
    "password.clear()\n",
    "username.send_keys('folsomfatties69')\n",
    "time.sleep(0.5)\n",
    "password.send_keys('fattyPatties31$')"
   ]
  },
  {
   "cell_type": "code",
   "execution_count": 4,
   "id": "0a54f85c",
   "metadata": {},
   "outputs": [],
   "source": [
    "log_in = WebDriverWait(driver, 10).until(EC.element_to_be_clickable((By.CSS_SELECTOR, \"button[type='submit']\"))).click()\n",
    "time.sleep(5)\n",
    "popup = WebDriverWait(driver, 10).until(EC.element_to_be_clickable((By.CSS_SELECTOR, \"div[tabindex='0']\"))).click()\n",
    "time.sleep(0.5)\n",
    "popup2 = WebDriverWait(driver, 10).until(EC.element_to_be_clickable((By.CSS_SELECTOR, \"button[class='_a9-- _ap36 _a9_1']\"))).click()\n",
    "driver.get('https://www.instagram.com/?variant=following')"
   ]
  },
  {
   "cell_type": "code",
   "execution_count": 34,
   "id": "58a31f89-5645-4d6c-b1bf-20de4262ee8c",
   "metadata": {},
   "outputs": [],
   "source": [
    "time.sleep(2)\n",
    "driver.execute_script(\"window.scrollBy(0, 400);\")"
   ]
  },
  {
   "cell_type": "code",
   "execution_count": 77,
   "id": "654bf92b-2827-4cdb-bbcd-b14763167066",
   "metadata": {},
   "outputs": [
    {
     "name": "stdout",
     "output_type": "stream",
     "text": [
      "ucsdhiking\n",
      "Join us for our end-of-the-year bonfire this Friday at La Jolla Shores! Come enjoy yummy smores and other snacks😋\n",
      "To sign up for carpool, please sign up on the carpool sheet in our Linktree in bio with your student account. Otherwise, the 30 bus will be able to take you to La Jolla Shores from campus. We look forward to seeing you all soon!\n",
      "https://scontent.cdninstagram.com/v/t51.29350-15/447070238_796445385792216_2299617845723377218_n.jpg?stp=dst-jpg_e35&efg=eyJ2ZW5jb2RlX3RhZyI6ImltYWdlX3VybGdlbi4xMDc5eDEwNzkuc2RyLmYyOTM1MCJ9&_nc_ht=scontent.cdninstagram.com&_nc_cat=100&_nc_ohc=c2o5pSXm1_wQ7kNvgGovXkM&edm=APs17CUBAAAA&ccb=7-5&ig_cache_key=MzM4MDUwMDIyMTIyMzQ1NjIzMA%3D%3D.2-ccb7-5&oh=00_AYCeXkCTj5f0HpqQl6UCjbAWSdz4gQoqi_YRNI2dGnpZ7g&oe=66606476&_nc_sid=10d13b\n",
      "\n",
      "\n",
      "tritonesports\n",
      "18 HOURS UNTIL TGEX ✨\n",
      "Set your alarms and prepare for TGEX TOMORROW! Join us for a two-day Price Center takeover and experience what our gaming community is all about:\n",
      "\n",
      "- Tournaments\n",
      "- Professional and Industry Panels\n",
      "- Peripheral and swag giveaways\n",
      "- Artist Alley\n",
      "- and much more! 🤩\n",
      "\n",
      "Head to Price Center this weekend and celebrate the gaming community here at UCSD! 🫶\n",
      "\n",
      "DON’T MISS OUT ON OUR RAFFLES HAPPENING IN WEST BALLROOM 🎟️\n",
      "\n",
      "DAY 1 RAFFLES:\n",
      "\n",
      "DeepCool Raffle\n",
      "TIME: 2:00-2:30 PM\n",
      "Win DeepCool CPU Coolers, a Digital PC Case, DeepCool Swag, and more! ❄️\n",
      "\n",
      "MSI Raffle\n",
      "TIME: 4:00-4:30 PM\n",
      "Win MSI Swag, MSI Peripherals, and a MSI PC Case! 😎\n",
      "\n",
      "General Raffle\n",
      "TIME: 6:00-6:30 PM\n",
      "Featuring GAMDIAS CPU Coolers & Peripherals, CATAN Studios products, & more! With our grand prizes being a Shure Podcast Microphone and a ZOTAC Barebones PC 🎙️\n",
      "\n",
      "DAY 2 RAFFLES:\n",
      "\n",
      "Rally Cry Raffle\n",
      "TIME: 2:00-2:30 PM\n",
      "Win CPU and Fan Coolers from Noctua, Akko Peripherals, and tickets for San Diego VR! ❄️\n",
      "\n",
      "Turtle Beach Raffle\n",
      "TIME: 4:00-4:30 PM\n",
      "Featuring Turtle Beach’s BRAND NEW PRODUCTS: Burst II Mouse, Atlas Air Headphones, and Vulkan Mini Air Gaming Keyboards! ⌨️\n",
      "\n",
      "OBSBOT Raffle:\n",
      "TIME: 6:00-6:30 PM\n",
      "Win T-shirts, Bags, Magnets, and Stickers from Dangkeebs, OBSBOT, ZOTAC, and StickerZooDesign! And tickets to San Diego VR! Earn a chance to win the grand prize of a top-tier OBSBOT Webcam!\n",
      "\n",
      "Don’t know what you want? Don’t worry! 🌠\n",
      "\n",
      "We’ll have General Raffles across both days!\n",
      "Win peripherals and trinkets from sponsors like ZOTAC, CATAN, Shure, GAMDIAS, CoolerMaster, and more from our scavenger hunt as well!\n",
      "https://scontent.cdninstagram.com/v/t39.30808-6/445379785_18308095639156401_8329893268797956817_n.jpg?stp=dst-jpg_e35&efg=eyJ2ZW5jb2RlX3RhZyI6ImltYWdlX3VybGdlbi4xNDQweDE0NDAuc2RyLmYzMDgwOCJ9&_nc_ht=scontent.cdninstagram.com&_nc_cat=109&_nc_ohc=3qzcW0Vhw3EQ7kNvgFpb1dO&edm=APs17CUAAAAA&ccb=7-5&ig_cache_key=MzM4MDQ3NzUwMzg2NjE0NDU2NA%3D%3D.2-ccb7-5&oh=00_AYDiUN0NOviUIV2HyOZcSnU6L45Nk0myVtjhoq8KRZViqA&oe=666045FE&_nc_sid=10d13b\n",
      "https://scontent.cdninstagram.com/v/t39.30808-6/445372549_18308095651156401_6782345304494517506_n.jpg?stp=dst-jpg_e35&efg=eyJ2ZW5jb2RlX3RhZyI6ImltYWdlX3VybGdlbi4xNDQweDE0NDAuc2RyLmYzMDgwOCJ9&_nc_ht=scontent.cdninstagram.com&_nc_cat=109&_nc_ohc=m2y5POeZk6wQ7kNvgHGFxVU&edm=APs17CUAAAAA&ccb=7-5&ig_cache_key=MzM4MDQ3NzUwMzg3NDU0ODM2OA%3D%3D.2-ccb7-5&oh=00_AYC2KaMe9UWvjiP6VBnlp8tU_i2J5PCPdX9I6FR5-Rvmiw&oe=66606521&_nc_sid=10d13b\n",
      "\n",
      "\n",
      "amwa_ucsd\n",
      "Come with AMWA on a hike along with Dr. Coffey! We would love to see you and no experience is required! 🌳\n",
      "https://scontent.cdninstagram.com/v/t51.29350-15/446938137_470495285474261_7086776655636133963_n.jpg?stp=dst-jpg_e35&efg=eyJ2ZW5jb2RlX3RhZyI6ImltYWdlX3VybGdlbi4xMDc5eDEwNzkuc2RyLmYyOTM1MCJ9&_nc_ht=scontent.cdninstagram.com&_nc_cat=105&_nc_ohc=dBYoWkbnTY0Q7kNvgGez1g4&edm=APs17CUBAAAA&ccb=7-5&ig_cache_key=MzM4MDQyODQxOTkxNjM1Njg5NA%3D%3D.2-ccb7-5&oh=00_AYDd5zP5XA1AX8UZ_1-FYwoWXPAUYdjtWnIk9cuEENdjWQ&oe=665E5382&_nc_sid=10d13b\n",
      "\n",
      "\n",
      "revreslife\n",
      "The end of the quarter is upon us and so is move-out! Finals is stressful enough without having to worry about packing. Take some time to come up with a plan and finish as much as you can before actual move-out 👍👍\n",
      "https://scontent.cdninstagram.com/v/t51.29350-15/447457730_999334848581168_338878550955284816_n.jpg?stp=dst-jpg_e35&efg=eyJ2ZW5jb2RlX3RhZyI6ImltYWdlX3VybGdlbi4xMDgweDEwODAuc2RyLmYyOTM1MCJ9&_nc_ht=scontent.cdninstagram.com&_nc_cat=108&_nc_ohc=c-zb1_fW8wUQ7kNvgHA6rpd&edm=APs17CUBAAAA&ccb=7-5&ig_cache_key=MzM4MDQwMDA3NjQ1NDY2MjYwMg%3D%3D.2-ccb7-5&oh=00_AYAD8I-TxsOSC4G4_XmxspnoLHS4bGzCY88luyXECavgsw&oe=66605B6D&_nc_sid=10d13b\n",
      "https://scontent.cdninstagram.com/v/t51.29350-15/447115758_297047383478705_3667334196686403967_n.jpg?stp=dst-jpg_e35&efg=eyJ2ZW5jb2RlX3RhZyI6ImltYWdlX3VybGdlbi4xMDgweDEwODAuc2RyLmYyOTM1MCJ9&_nc_ht=scontent.cdninstagram.com&_nc_cat=105&_nc_ohc=H7dtoXCGHO4Q7kNvgFJw50c&edm=APs17CUBAAAA&ccb=7-5&ig_cache_key=MzM4MDQwMDA3NjQ1NDg2MDIyMQ%3D%3D.2-ccb7-5&oh=00_AYBNn2RW16LC8mYD_4Y_M_-Rz1_tknDvWJSt7Ai7mKSDYQ&oe=66605EDC&_nc_sid=10d13b\n",
      "\n",
      "\n",
      "eighthcollege\n",
      "Come celebrate pride at Revelle Plaza with community, prizes, and Sprinkles Cupcakes! See you Monday!\n",
      "https://scontent.cdninstagram.com/v/t51.29350-15/447148530_968241091423446_2158061160056336335_n.heic?stp=dst-jpg_e35&efg=eyJ2ZW5jb2RlX3RhZyI6ImltYWdlX3VybGdlbi4xMDgweDEwODAuc2RyLmYyOTM1MCJ9&_nc_ht=scontent.cdninstagram.com&_nc_cat=106&_nc_ohc=dSharwgy3ZgQ7kNvgEYabUI&edm=APs17CUBAAAA&ccb=7-5&ig_cache_key=MzM4MDM5NzUwMzAxNDQ1MjQzNg%3D%3D.2-ccb7-5&oh=00_AYDaB-95ESHH5BnCPQv2V-lAAceeE1eLoZLijNQAlE8Kxw&oe=666040D1&_nc_sid=10d13b\n",
      "\n",
      "\n",
      "tritontransfers\n",
      "📢 Important Announcements from the Triton Transfer Hub!💙💛\n",
      "\n",
      "1️⃣ Early Closure: The Transfer Hub will close early on Wednesday (6/5) at 4pm. Open hours will be 9:00am-4:00pm. Normal hours will resume Monday, Tuesday, Thursday, and Friday. For questions, email tritontransfers@ucsd.edu.\n",
      "\n",
      "2️⃣ Finals Week Hours: During Finals Week (6/10 - 6/14), the Transfer Hub will have adjusted hours:\n",
      "\n",
      "Monday - Tuesday: 9:00am-7:00pm\n",
      "Wednesday - Thursday: 9:00am-6:00pm\n",
      "Friday: CLOSED\n",
      "\n",
      "Good luck with your finals, Tritons! 🔱\n",
      "\n",
      "#TritonTransfers #UCSD #FinalsWeek #StayInformed #GoodLuck\n",
      "https://scontent.cdninstagram.com/v/t51.29350-15/447138361_996521805156846_304299870215985838_n.heic?stp=dst-jpg_e35&efg=eyJ2ZW5jb2RlX3RhZyI6ImltYWdlX3VybGdlbi4xMDgweDEwODAuc2RyLmYyOTM1MCJ9&_nc_ht=scontent.cdninstagram.com&_nc_cat=106&_nc_ohc=_GcHdwPUt80Q7kNvgEs_km3&edm=APs17CUBAAAA&ccb=7-5&ig_cache_key=MzM4MDM4OTk0NDc3Nzg0MDY3Ng%3D%3D.2-ccb7-5&oh=00_AYCPGvRgEpeo19XOLGDM-Ftec85xIxQulS-PnBNGmIo76Q&oe=66605209&_nc_sid=10d13b\n",
      "https://scontent.cdninstagram.com/v/t51.29350-15/447133054_1140577243937235_5183590312761619934_n.heic?stp=dst-jpg_e35&efg=eyJ2ZW5jb2RlX3RhZyI6ImltYWdlX3VybGdlbi4xMDgweDEwODAuc2RyLmYyOTM1MCJ9&_nc_ht=scontent.cdninstagram.com&_nc_cat=103&_nc_ohc=KmfkirO-3doQ7kNvgEYNoyF&edm=APs17CUBAAAA&ccb=7-5&ig_cache_key=MzM4MDM4OTk0NDc3Nzc3MDkxOQ%3D%3D.2-ccb7-5&oh=00_AYCWXC0-nV2ekX5ooxajOyiUldbVrgU1W93ZcYJNYVgKOA&oe=66604C14&_nc_sid=10d13b\n",
      "\n",
      "\n",
      "ksdtradio\n",
      "𝗔𝗥𝗧 𝗝𝗢𝗬 𝗠𝗨𝗦𝗜𝗖 𝗙𝗘𝗦𝗧𝗜𝗩𝗔𝗟 𝗙𝗢𝗥 𝗣𝗔𝗟𝗘𝗦𝗧𝗜𝗡𝗘 🇵🇸\n",
      "\n",
      "June 6th | 4PM-10PM | The Stageroom\n",
      "\n",
      "Proudly brought to you by KSDT Radio, Mandeville Art Collective, Antifragile Zine, En Route, Triton TV, TREND, Jewish Voices for Peace, and more!\n",
      "\n",
      "A celebration of student creatives at UCSD and a gathering for solidarity 🍉♥️\n",
      "This festival aims to bring together our community in support of Palestine by showcasing students’ musical and artistic talents.\n",
      "\n",
      "Making a commitment to aid humanitarian causes and with the help of Jewish Voices for Peace, we will be encouraging our guests to donate to an emergency/relief fund for Palestine at our event.\n",
      "\n",
      "Bring friends and come through for a great time of student live music, crafts, art exhibition, DJ sets, catered food, and more!!\n",
      "https://scontent.cdninstagram.com/v/t39.30808-6/447203360_18433368178005719_3433389476175465177_n.jpg?stp=dst-jpg_e35&efg=eyJ2ZW5jb2RlX3RhZyI6ImltYWdlX3VybGdlbi43OTl4Nzk5LnNkci5mMzA4MDgifQ&_nc_ht=scontent.cdninstagram.com&_nc_cat=111&_nc_ohc=ZLl-HwjUeY8Q7kNvgGlE8uc&edm=APs17CUAAAAA&ccb=7-5&ig_cache_key=MzM4MDM3ODI2NDk2NjU5NjgxMQ%3D%3D.2-ccb7-5&oh=00_AYDeOLjQDLa6pijiUNn_dszX2J3Jb1d-7OgDTt0PCJ8avA&oe=66604BED&_nc_sid=10d13b\n",
      "\n",
      "\n",
      "ucsdlibrary\n",
      "#TodayILearned Clara Chung is a Korean-American singer-songwriter who graduated from @UCSanDiego in 2010. Clara played concerts on campus as a student and even returned after graduation. #tilucsd #AAPIHM\n",
      ".\n",
      "📷 UCSD Guardian, Special Collections & Archives, UC San Diego\n",
      ".\n",
      "Read her full feature in the UCSD Guardian newspaper ➡️ https://bit.ly/3wirFFD. LINK IN BIO!\n",
      "https://scontent.cdninstagram.com/v/t51.2885-15/447062382_463950109550737_2907518190062994049_n.jpg?stp=dst-jpg_e35&efg=eyJ2ZW5jb2RlX3RhZyI6ImltYWdlX3VybGdlbi45NDR4NTg0LnNkci5mMjg4NSJ9&_nc_ht=scontent.cdninstagram.com&_nc_cat=101&_nc_ohc=I_qKFR1QzycQ7kNvgEvVXic&edm=APs17CUBAAAA&ccb=7-5&ig_cache_key=MzM4MDM3MjEzOTIzNTI1MTM1MQ%3D%3D.2-ccb7-5&oh=00_AYBAz_Ln1UUKkPDd-8hN08OkgIBCWA4e6D7Ab5n4Rl0NVg&oe=66605E67&_nc_sid=10d13b\n",
      "\n",
      "\n",
      "ucsdcse\n",
      "Get ready to debug to the finish line! 🎓 The CSE alumni board is hosting their 2nd annual CSE Graduation Celebration on campus from 2-4 PM. Join your fellow CSE Grads for speeches, food, games, and plenty of photo ops to make final CSE Memories.\n",
      "\n",
      "The first 175 graduating CSE Undergrads can get a free ticket (link in bio!) to receive a special CSE tassel to rock across the stage.\n",
      "\n",
      "Visit csedebug.ucsd.edu to reserve your spot and see more event details.\n",
      "\n",
      "#UCSD #UCSanDiego #UCSDCSE #UCSDJacobs #CSEAAB #CSEGraduation #CSEAlumni #UCSDGraduation\n",
      "https://scontent.cdninstagram.com/v/t51.29350-15/447187845_833035132055384_2169222700694137159_n.jpg?stp=dst-jpg_e35&efg=eyJ2ZW5jb2RlX3RhZyI6ImltYWdlX3VybGdlbi4xNDQweDE0NDAuc2RyLmYyOTM1MCJ9&_nc_ht=scontent.cdninstagram.com&_nc_cat=108&_nc_ohc=4fnW4GIfT9cQ7kNvgGZH2N_&edm=APs17CUBAAAA&ccb=7-5&ig_cache_key=MzM4MDM3MTM2MDg5MDY4MzMzOQ%3D%3D.2-ccb7-5&oh=00_AYA_fWQpnE8Gwjj-Tyjl9zflstFfYy00Lw9BZMXL8I_zwg&oe=666042DD&_nc_sid=10d13b\n",
      "https://scontent.cdninstagram.com/v/t51.29350-15/447106496_446596127956219_2047240146169338855_n.jpg?stp=dst-jpg_e35&efg=eyJ2ZW5jb2RlX3RhZyI6ImltYWdlX3VybGdlbi4xNDQweDE0NDAuc2RyLmYyOTM1MCJ9&_nc_ht=scontent.cdninstagram.com&_nc_cat=107&_nc_ohc=qaN64q4gvT0Q7kNvgHoegwe&edm=APs17CUBAAAA&ccb=7-5&ig_cache_key=MzM4MDM3MTM2MDg5MDczMDY4NA%3D%3D.2-ccb7-5&oh=00_AYBediYaRjQcO3sptFxS67XowyxUadc4xZ5_pQodSOACPg&oe=6660679C&_nc_sid=10d13b\n",
      "\n",
      "\n",
      "ucsd_dots\n",
      "Reminder that our Spring Concert is only 2 days away!🌸🎹\n",
      "Don’t forget to register for FREE admission with the link in our bio‼️🤩\n",
      "- Sunday, June 2nd\n",
      "- 7:00 PM (doors open at 6:30)\n",
      "- SSC Multipurpose Room (next to Yogurt World)\n",
      "https://scontent.cdninstagram.com/v/t39.30808-6/447407265_18323321125121748_1419973608738859432_n.jpg?stp=dst-jpg_e35&efg=eyJ2ZW5jb2RlX3RhZyI6ImltYWdlX3VybGdlbi4xMDc5eDEwNzkuc2RyLmYzMDgwOCJ9&_nc_ht=scontent.cdninstagram.com&_nc_cat=100&_nc_ohc=mF_HTJ8tW-gQ7kNvgFGyqX0&edm=APs17CUAAAAA&ccb=7-5&ig_cache_key=MzM4MDM1MDYyNDQzNjI3NTE5Nw%3D%3D.2-ccb7-5&oh=00_AYCWvVCJzbftICt6R_sBnKR5pC9aOj_JmOZ8rKXRafkKWw&oe=66604F90&_nc_sid=10d13b\n",
      "\n",
      "\n",
      "ucsdmishelanu\n",
      "Thank you to everyone who came to our end of the year Al-ha-esh!!! Have a good summer ☀️😎\n",
      "https://scontent.cdninstagram.com/v/t51.29350-15/446354805_3718957008352514_287878057341352712_n.jpg?stp=dst-jpg_e35&efg=eyJ2ZW5jb2RlX3RhZyI6ImltYWdlX3VybGdlbi4xNDQweDE3OTkuc2RyLmYyOTM1MCJ9&_nc_ht=scontent.cdninstagram.com&_nc_cat=102&_nc_ohc=oP5MeRTRriIQ7kNvgHvnk2d&edm=APs17CUBAAAA&ccb=7-5&ig_cache_key=MzM4MDM0MjY1NjYxNzQ4NTE5Nw%3D%3D.2-ccb7-5&oh=00_AYB0Xk3cUAO9gP86-_PnEgAE_qPCiwE5SjF37J0jj1_teQ&oe=66604A92&_nc_sid=10d13b\n",
      "https://scontent.cdninstagram.com/v/t51.29350-15/447232570_2802621586585844_474991343305458642_n.jpg?stp=dst-jpg_e35&efg=eyJ2ZW5jb2RlX3RhZyI6ImltYWdlX3VybGdlbi4xNDQweDE3OTkuc2RyLmYyOTM1MCJ9&_nc_ht=scontent.cdninstagram.com&_nc_cat=108&_nc_ohc=vcS23cCR7iEQ7kNvgFHrCE-&edm=APs17CUBAAAA&ccb=7-5&ig_cache_key=MzM4MDM0MjY1NjYxNzQ5MTMzNg%3D%3D.2-ccb7-5&oh=00_AYAlQBGNHYg0ImfWVyVH5j1Dz_heSm8jc9w4f30rryIwfA&oe=66604EA0&_nc_sid=10d13b\n",
      "\n",
      "\n",
      "ucsdasce\n",
      "Be there or be square 🟫🗣️\n",
      "\n",
      "𝗔𝗦𝗖𝗘 𝗣𝗿𝗲𝘀𝗲𝗻𝘁𝘀: CHARLIE BEAR AND SNOOPY’S PUPFORMASCE 🐶🐾✨\n",
      "May 31st | 4 PM-8 PM | RIMAC Field\n",
      "\n",
      "—————————————-\n",
      "\n",
      "𝗪𝗛𝗔𝗧 𝗜𝗦 𝗕𝗘𝗔𝗥 𝗚𝗔𝗥𝗗𝗘𝗡?\n",
      "Bear Gardens are daytime carnivals where students can chill with free food and play games to win some bear-y cool prizes with our mascot, ASCE Bear. As a play on “Biergarten”, Bear Garden serves free beer to students over 21 who present a valid ID, but the fun is open to all UCSD undergraduate students! Each Bear Garden also has a special theme with exclusive, themed stickers and merchandise. Come out for a paw-some time!\n",
      "\n",
      "NOTE: This event is FREE for UC San Diego undergrads with valid Student ID. You do NOT need to be over 21 to attend; all ages are welcome!\n",
      "\n",
      "\n"
     ]
    }
   ],
   "source": [
    "postSet = set()\n",
    "posts = []\n",
    "\n",
    "while len(posts) < 12:\n",
    "    temp = driver.find_element(By.CSS_SELECTOR,\"div[class='x78zum5 xdt5ytf x5yr21d xa1mljc xh8yej3 x1bs97v6 x1q0q8m5 xso031l x11aubdm xnc8uc2']\")\n",
    "    #if posts and temp == posts[-1]:\n",
    "    if temp.find_element(By.CSS_SELECTOR,\"div[class='x1rg5ohu xw3qccf']\").text + temp.find_element(By.CSS_SELECTOR,\"span[class='_ap3a _aaco _aacu _aacx _aad7 _aade']\").text[:10] in postSet:\n",
    "        driver.execute_script(\"window.scrollBy(0, 400);\")\n",
    "    else:\n",
    "        WebDriverWait(driver, 10).until(EC.element_to_be_clickable((By.CSS_SELECTOR, \"span[class='x1lliihq x1plvlek xryxfnj x1n2onr6 x193iq5w xeuugli x1fj9vlw x13faqbe x1vvkbs x1s928wv xhkezso x1gmr53x x1cpjm7i x1fgarty x1943h6x x1i0vuye xvs91rp xo1l8bm x1roi4f4 x1yc453h x10wh9bi x1wdrske x8viiok x18hxmgj']\"))).click()\n",
    "        posts.append(temp)\n",
    "\n",
    "        while True:\n",
    "            try:\n",
    "                print(temp.find_element(By.CSS_SELECTOR,\"div[class='x1rg5ohu xw3qccf']\").text)\n",
    "                break\n",
    "            except Exception as e:\n",
    "                driver.execute_script(\"window.scrollBy(0, -400);\")\n",
    "                time.sleep(1)\n",
    "            \n",
    "        postSet.add(temp.find_element(By.CSS_SELECTOR,\"div[class='x1rg5ohu xw3qccf']\").text + temp.find_element(By.CSS_SELECTOR,\"span[class='_ap3a _aaco _aacu _aacx _aad7 _aade']\").text[:10])\n",
    "        \n",
    "        print(temp.find_element(By.CSS_SELECTOR,\"span[class='_ap3a _aaco _aacu _aacx _aad7 _aade']\").text)\n",
    "        \n",
    "        images = temp.find_elements(By.CSS_SELECTOR,\"div[class='_aagv']>img\")\n",
    "        for image in images:\n",
    "            print(image.get_attribute('src'))\n",
    "            \n",
    "        print(\"\\n\")\n",
    "        \n",
    "    time.sleep(1)"
   ]
  },
  {
   "cell_type": "code",
   "execution_count": 78,
   "id": "5e746b42-74fe-4a2e-95d3-7e1db66e990c",
   "metadata": {},
   "outputs": [
    {
     "data": {
      "text/plain": [
       "{'amwa_ucsdCome with ',\n",
       " 'eighthcollegeCome celeb',\n",
       " 'ksdtradio𝗔𝗥𝗧 𝗝𝗢𝗬 𝗠𝗨',\n",
       " 'revreslifeThe end of',\n",
       " 'tritonesports18 HOURS U',\n",
       " 'tritontransfers📢 Importan',\n",
       " 'ucsd_dotsReminder t',\n",
       " 'ucsdasceBe there o',\n",
       " 'ucsdcseGet ready ',\n",
       " 'ucsdhikingJoin us fo',\n",
       " 'ucsdlibrary#TodayILea',\n",
       " 'ucsdmishelanuThank you '}"
      ]
     },
     "execution_count": 78,
     "metadata": {},
     "output_type": "execute_result"
    }
   ],
   "source": [
    "postSet"
   ]
  },
  {
   "cell_type": "code",
   "execution_count": 76,
   "id": "a9b0992c-201f-4ffc-98e3-f6c591fc0d5e",
   "metadata": {},
   "outputs": [
    {
     "data": {
      "text/plain": [
       "6"
      ]
     },
     "execution_count": 76,
     "metadata": {},
     "output_type": "execute_result"
    }
   ],
   "source": [
    "len(postSet)"
   ]
  },
  {
   "cell_type": "code",
   "execution_count": 49,
   "id": "e0a07101-5d35-4fb9-8ae8-a3c947a2c2d8",
   "metadata": {},
   "outputs": [
    {
     "name": "stdout",
     "output_type": "stream",
     "text": [
      "{<selenium.webdriver.remote.webelement.WebElement (session=\"909a508707c616139f9244439fc76e7b\", element=\"f.9688EEC8A5F4D40A0211E6862A649918.d.D57C6367287D67335F1398720E1D2476.e.694\")>, <selenium.webdriver.remote.webelement.WebElement (session=\"909a508707c616139f9244439fc76e7b\", element=\"f.9688EEC8A5F4D40A0211E6862A649918.d.D57C6367287D67335F1398720E1D2476.e.728\")>, <selenium.webdriver.remote.webelement.WebElement (session=\"909a508707c616139f9244439fc76e7b\", element=\"f.9688EEC8A5F4D40A0211E6862A649918.d.D57C6367287D67335F1398720E1D2476.e.692\")>, <selenium.webdriver.remote.webelement.WebElement (session=\"909a508707c616139f9244439fc76e7b\", element=\"f.9688EEC8A5F4D40A0211E6862A649918.d.D57C6367287D67335F1398720E1D2476.e.729\")>, <selenium.webdriver.remote.webelement.WebElement (session=\"909a508707c616139f9244439fc76e7b\", element=\"f.9688EEC8A5F4D40A0211E6862A649918.d.D57C6367287D67335F1398720E1D2476.e.733\")>, <selenium.webdriver.remote.webelement.WebElement (session=\"909a508707c616139f9244439fc76e7b\", element=\"f.9688EEC8A5F4D40A0211E6862A649918.d.D57C6367287D67335F1398720E1D2476.e.723\")>, <selenium.webdriver.remote.webelement.WebElement (session=\"909a508707c616139f9244439fc76e7b\", element=\"f.9688EEC8A5F4D40A0211E6862A649918.d.D57C6367287D67335F1398720E1D2476.e.693\")>, <selenium.webdriver.remote.webelement.WebElement (session=\"909a508707c616139f9244439fc76e7b\", element=\"f.9688EEC8A5F4D40A0211E6862A649918.d.D57C6367287D67335F1398720E1D2476.e.691\")>}\n"
     ]
    }
   ],
   "source": [
    "posts = set()\n",
    "# mores = set()\n",
    "\n",
    "posts.update(driver.find_elements(By.CSS_SELECTOR,\"div[class='x78zum5 xdt5ytf x5yr21d xa1mljc xh8yej3 x1bs97v6 x1q0q8m5 xso031l x11aubdm xnc8uc2']\"))\n",
    "# mores.update(driver.find_elements(By.CSS_SELECTOR, \"span[class='x1lliihq x1plvlek xryxfnj x1n2onr6 x193iq5w xeuugli x1fj9vlw x13faqbe x1vvkbs x1s928wv xhkezso x1gmr53x x1cpjm7i x1fgarty x1943h6x x1i0vuye xvs91rp xo1l8bm x1roi4f4 x1yc453h x10wh9bi x1wdrske x8viiok x18hxmgj']\"))\n",
    "\n",
    "while len(posts) < 8:\n",
    "    time.sleep(1)\n",
    "    driver.execute_script(\"window.scrollBy(0, 400);\")\n",
    "    posts.update(driver.find_elements(By.CSS_SELECTOR,\"div[class='x78zum5 xdt5ytf x5yr21d xa1mljc xh8yej3 x1bs97v6 x1q0q8m5 xso031l x11aubdm xnc8uc2']\"))\n",
    "    # mores.update(driver.find_elements(By.CSS_SELECTOR, \"span[class='x1lliihq x1plvlek xryxfnj x1n2onr6 x193iq5w xeuugli x1fj9vlw x13faqbe x1vvkbs x1s928wv xhkezso x1gmr53x x1cpjm7i x1fgarty x1943h6x x1i0vuye xvs91rp xo1l8bm x1roi4f4 x1yc453h x10wh9bi x1wdrske x8viiok x18hxmgj']\"))\n",
    "\n",
    "print(posts)"
   ]
  },
  {
   "cell_type": "code",
   "execution_count": 50,
   "id": "5da2f3d5-3f5b-49bb-9eef-5f33a0baeecb",
   "metadata": {},
   "outputs": [
    {
     "name": "stdout",
     "output_type": "stream",
     "text": [
      "8\n"
     ]
    }
   ],
   "source": [
    "print(len(posts))"
   ]
  },
  {
   "cell_type": "code",
   "execution_count": 51,
   "id": "27311697-bf08-4ec5-a27f-2802c368bfac",
   "metadata": {},
   "outputs": [
    {
     "name": "stdout",
     "output_type": "stream",
     "text": [
      "eighthcollege\n",
      "ksdtradio\n",
      "amwa_ucsd\n",
      "ucsdlibrary\n",
      "ucsdcse\n",
      "tritontransfers\n",
      "revreslife\n",
      "tritonesports\n"
     ]
    }
   ],
   "source": [
    "for post in posts:\n",
    "    print(post.find_element(By.CSS_SELECTOR,\"div[class='x1rg5ohu xw3qccf']\").text)"
   ]
  },
  {
   "cell_type": "code",
   "execution_count": 52,
   "id": "ee132de9-4142-44c0-b082-36d01a27421b",
   "metadata": {},
   "outputs": [],
   "source": [
    "mores = driver.find_elements(By.CSS_SELECTOR, \"span[class='x1lliihq x1plvlek xryxfnj x1n2onr6 x193iq5w xeuugli x1fj9vlw x13faqbe x1vvkbs x1s928wv xhkezso x1gmr53x x1cpjm7i x1fgarty x1943h6x x1i0vuye xvs91rp xo1l8bm x1roi4f4 x1yc453h x10wh9bi x1wdrske x8viiok x18hxmgj']\")"
   ]
  },
  {
   "cell_type": "code",
   "execution_count": 53,
   "id": "bb6f46c8-5ec0-4ec1-aee5-3d700922abd7",
   "metadata": {},
   "outputs": [
    {
     "name": "stdout",
     "output_type": "stream",
     "text": [
      "6\n"
     ]
    }
   ],
   "source": [
    "print(len(mores))"
   ]
  },
  {
   "cell_type": "code",
   "execution_count": 56,
   "id": "f31a03a1-82cd-437a-8cc5-966dae5ca45f",
   "metadata": {},
   "outputs": [
    {
     "ename": "StaleElementReferenceException",
     "evalue": "Message: stale element reference: stale element not found in the current frame\n  (Session info: chrome=125.0.6422.76); For documentation on this error, please visit: https://www.selenium.dev/documentation/webdriver/troubleshooting/errors#stale-element-reference-exception\nStacktrace:\n\tGetHandleVerifier [0x00007FF6DCA11F52+60322]\n\t(No symbol) [0x00007FF6DC98CEC9]\n\t(No symbol) [0x00007FF6DC847EBA]\n\t(No symbol) [0x00007FF6DC84DCEE]\n\t(No symbol) [0x00007FF6DC850641]\n\t(No symbol) [0x00007FF6DC8506E0]\n\t(No symbol) [0x00007FF6DC89968C]\n\t(No symbol) [0x00007FF6DC88B346]\n\t(No symbol) [0x00007FF6DC8BC21A]\n\t(No symbol) [0x00007FF6DC88ADB6]\n\t(No symbol) [0x00007FF6DC8BC430]\n\t(No symbol) [0x00007FF6DC8DBC80]\n\t(No symbol) [0x00007FF6DC8BBFC3]\n\t(No symbol) [0x00007FF6DC889617]\n\t(No symbol) [0x00007FF6DC88A211]\n\tGetHandleVerifier [0x00007FF6DCD294AD+3301629]\n\tGetHandleVerifier [0x00007FF6DCD736D3+3605283]\n\tGetHandleVerifier [0x00007FF6DCD69450+3563680]\n\tGetHandleVerifier [0x00007FF6DCAC4326+790390]\n\t(No symbol) [0x00007FF6DC99750F]\n\t(No symbol) [0x00007FF6DC993404]\n\t(No symbol) [0x00007FF6DC993592]\n\t(No symbol) [0x00007FF6DC982F9F]\n\tBaseThreadInitThunk [0x00007FF8D607257D+29]\n\tRtlUserThreadStart [0x00007FF8D806AA48+40]\n",
     "output_type": "error",
     "traceback": [
      "\u001b[1;31m---------------------------------------------------------------------------\u001b[0m",
      "\u001b[1;31mStaleElementReferenceException\u001b[0m            Traceback (most recent call last)",
      "Cell \u001b[1;32mIn[56], line 1\u001b[0m\n\u001b[1;32m----> 1\u001b[0m \u001b[43mmores\u001b[49m\u001b[43m[\u001b[49m\u001b[38;5;241;43m2\u001b[39;49m\u001b[43m]\u001b[49m\u001b[38;5;241;43m.\u001b[39;49m\u001b[43mclick\u001b[49m\u001b[43m(\u001b[49m\u001b[43m)\u001b[49m\n",
      "File \u001b[1;32m~\\AppData\\Local\\Programs\\Python\\Python312\\Lib\\site-packages\\selenium\\webdriver\\remote\\webelement.py:94\u001b[0m, in \u001b[0;36mWebElement.click\u001b[1;34m(self)\u001b[0m\n\u001b[0;32m     92\u001b[0m \u001b[38;5;28;01mdef\u001b[39;00m \u001b[38;5;21mclick\u001b[39m(\u001b[38;5;28mself\u001b[39m) \u001b[38;5;241m-\u001b[39m\u001b[38;5;241m>\u001b[39m \u001b[38;5;28;01mNone\u001b[39;00m:\n\u001b[0;32m     93\u001b[0m \u001b[38;5;250m    \u001b[39m\u001b[38;5;124;03m\"\"\"Clicks the element.\"\"\"\u001b[39;00m\n\u001b[1;32m---> 94\u001b[0m     \u001b[38;5;28;43mself\u001b[39;49m\u001b[38;5;241;43m.\u001b[39;49m\u001b[43m_execute\u001b[49m\u001b[43m(\u001b[49m\u001b[43mCommand\u001b[49m\u001b[38;5;241;43m.\u001b[39;49m\u001b[43mCLICK_ELEMENT\u001b[49m\u001b[43m)\u001b[49m\n",
      "File \u001b[1;32m~\\AppData\\Local\\Programs\\Python\\Python312\\Lib\\site-packages\\selenium\\webdriver\\remote\\webelement.py:395\u001b[0m, in \u001b[0;36mWebElement._execute\u001b[1;34m(self, command, params)\u001b[0m\n\u001b[0;32m    393\u001b[0m     params \u001b[38;5;241m=\u001b[39m {}\n\u001b[0;32m    394\u001b[0m params[\u001b[38;5;124m\"\u001b[39m\u001b[38;5;124mid\u001b[39m\u001b[38;5;124m\"\u001b[39m] \u001b[38;5;241m=\u001b[39m \u001b[38;5;28mself\u001b[39m\u001b[38;5;241m.\u001b[39m_id\n\u001b[1;32m--> 395\u001b[0m \u001b[38;5;28;01mreturn\u001b[39;00m \u001b[38;5;28;43mself\u001b[39;49m\u001b[38;5;241;43m.\u001b[39;49m\u001b[43m_parent\u001b[49m\u001b[38;5;241;43m.\u001b[39;49m\u001b[43mexecute\u001b[49m\u001b[43m(\u001b[49m\u001b[43mcommand\u001b[49m\u001b[43m,\u001b[49m\u001b[43m \u001b[49m\u001b[43mparams\u001b[49m\u001b[43m)\u001b[49m\n",
      "File \u001b[1;32m~\\AppData\\Local\\Programs\\Python\\Python312\\Lib\\site-packages\\selenium\\webdriver\\remote\\webdriver.py:347\u001b[0m, in \u001b[0;36mWebDriver.execute\u001b[1;34m(self, driver_command, params)\u001b[0m\n\u001b[0;32m    345\u001b[0m response \u001b[38;5;241m=\u001b[39m \u001b[38;5;28mself\u001b[39m\u001b[38;5;241m.\u001b[39mcommand_executor\u001b[38;5;241m.\u001b[39mexecute(driver_command, params)\n\u001b[0;32m    346\u001b[0m \u001b[38;5;28;01mif\u001b[39;00m response:\n\u001b[1;32m--> 347\u001b[0m     \u001b[38;5;28;43mself\u001b[39;49m\u001b[38;5;241;43m.\u001b[39;49m\u001b[43merror_handler\u001b[49m\u001b[38;5;241;43m.\u001b[39;49m\u001b[43mcheck_response\u001b[49m\u001b[43m(\u001b[49m\u001b[43mresponse\u001b[49m\u001b[43m)\u001b[49m\n\u001b[0;32m    348\u001b[0m     response[\u001b[38;5;124m\"\u001b[39m\u001b[38;5;124mvalue\u001b[39m\u001b[38;5;124m\"\u001b[39m] \u001b[38;5;241m=\u001b[39m \u001b[38;5;28mself\u001b[39m\u001b[38;5;241m.\u001b[39m_unwrap_value(response\u001b[38;5;241m.\u001b[39mget(\u001b[38;5;124m\"\u001b[39m\u001b[38;5;124mvalue\u001b[39m\u001b[38;5;124m\"\u001b[39m, \u001b[38;5;28;01mNone\u001b[39;00m))\n\u001b[0;32m    349\u001b[0m     \u001b[38;5;28;01mreturn\u001b[39;00m response\n",
      "File \u001b[1;32m~\\AppData\\Local\\Programs\\Python\\Python312\\Lib\\site-packages\\selenium\\webdriver\\remote\\errorhandler.py:229\u001b[0m, in \u001b[0;36mErrorHandler.check_response\u001b[1;34m(self, response)\u001b[0m\n\u001b[0;32m    227\u001b[0m         alert_text \u001b[38;5;241m=\u001b[39m value[\u001b[38;5;124m\"\u001b[39m\u001b[38;5;124malert\u001b[39m\u001b[38;5;124m\"\u001b[39m]\u001b[38;5;241m.\u001b[39mget(\u001b[38;5;124m\"\u001b[39m\u001b[38;5;124mtext\u001b[39m\u001b[38;5;124m\"\u001b[39m)\n\u001b[0;32m    228\u001b[0m     \u001b[38;5;28;01mraise\u001b[39;00m exception_class(message, screen, stacktrace, alert_text)  \u001b[38;5;66;03m# type: ignore[call-arg]  # mypy is not smart enough here\u001b[39;00m\n\u001b[1;32m--> 229\u001b[0m \u001b[38;5;28;01mraise\u001b[39;00m exception_class(message, screen, stacktrace)\n",
      "\u001b[1;31mStaleElementReferenceException\u001b[0m: Message: stale element reference: stale element not found in the current frame\n  (Session info: chrome=125.0.6422.76); For documentation on this error, please visit: https://www.selenium.dev/documentation/webdriver/troubleshooting/errors#stale-element-reference-exception\nStacktrace:\n\tGetHandleVerifier [0x00007FF6DCA11F52+60322]\n\t(No symbol) [0x00007FF6DC98CEC9]\n\t(No symbol) [0x00007FF6DC847EBA]\n\t(No symbol) [0x00007FF6DC84DCEE]\n\t(No symbol) [0x00007FF6DC850641]\n\t(No symbol) [0x00007FF6DC8506E0]\n\t(No symbol) [0x00007FF6DC89968C]\n\t(No symbol) [0x00007FF6DC88B346]\n\t(No symbol) [0x00007FF6DC8BC21A]\n\t(No symbol) [0x00007FF6DC88ADB6]\n\t(No symbol) [0x00007FF6DC8BC430]\n\t(No symbol) [0x00007FF6DC8DBC80]\n\t(No symbol) [0x00007FF6DC8BBFC3]\n\t(No symbol) [0x00007FF6DC889617]\n\t(No symbol) [0x00007FF6DC88A211]\n\tGetHandleVerifier [0x00007FF6DCD294AD+3301629]\n\tGetHandleVerifier [0x00007FF6DCD736D3+3605283]\n\tGetHandleVerifier [0x00007FF6DCD69450+3563680]\n\tGetHandleVerifier [0x00007FF6DCAC4326+790390]\n\t(No symbol) [0x00007FF6DC99750F]\n\t(No symbol) [0x00007FF6DC993404]\n\t(No symbol) [0x00007FF6DC993592]\n\t(No symbol) [0x00007FF6DC982F9F]\n\tBaseThreadInitThunk [0x00007FF8D607257D+29]\n\tRtlUserThreadStart [0x00007FF8D806AA48+40]\n"
     ]
    }
   ],
   "source": [
    "mores[2].click()"
   ]
  },
  {
   "cell_type": "code",
   "execution_count": 13,
   "id": "6e412c75-e476-447a-8abb-d00e9bb6997f",
   "metadata": {},
   "outputs": [
    {
     "ename": "StaleElementReferenceException",
     "evalue": "Message: stale element reference: stale element not found in the current frame\n  (Session info: chrome=125.0.6422.76); For documentation on this error, please visit: https://www.selenium.dev/documentation/webdriver/troubleshooting/errors#stale-element-reference-exception\nStacktrace:\n\tGetHandleVerifier [0x00007FF6DCA11F52+60322]\n\t(No symbol) [0x00007FF6DC98CEC9]\n\t(No symbol) [0x00007FF6DC847EBA]\n\t(No symbol) [0x00007FF6DC84DCEE]\n\t(No symbol) [0x00007FF6DC850641]\n\t(No symbol) [0x00007FF6DC8506E0]\n\t(No symbol) [0x00007FF6DC89968C]\n\t(No symbol) [0x00007FF6DC88B346]\n\t(No symbol) [0x00007FF6DC8BC21A]\n\t(No symbol) [0x00007FF6DC88ADB6]\n\t(No symbol) [0x00007FF6DC8BC430]\n\t(No symbol) [0x00007FF6DC8DBC80]\n\t(No symbol) [0x00007FF6DC8BBFC3]\n\t(No symbol) [0x00007FF6DC889617]\n\t(No symbol) [0x00007FF6DC88A211]\n\tGetHandleVerifier [0x00007FF6DCD294AD+3301629]\n\tGetHandleVerifier [0x00007FF6DCD736D3+3605283]\n\tGetHandleVerifier [0x00007FF6DCD69450+3563680]\n\tGetHandleVerifier [0x00007FF6DCAC4326+790390]\n\t(No symbol) [0x00007FF6DC99750F]\n\t(No symbol) [0x00007FF6DC993404]\n\t(No symbol) [0x00007FF6DC993592]\n\t(No symbol) [0x00007FF6DC982F9F]\n\tBaseThreadInitThunk [0x00007FF8D607257D+29]\n\tRtlUserThreadStart [0x00007FF8D806AA48+40]\n",
     "output_type": "error",
     "traceback": [
      "\u001b[1;31m---------------------------------------------------------------------------\u001b[0m",
      "\u001b[1;31mStaleElementReferenceException\u001b[0m            Traceback (most recent call last)",
      "Cell \u001b[1;32mIn[13], line 3\u001b[0m\n\u001b[0;32m      1\u001b[0m \u001b[38;5;28;01mfor\u001b[39;00m more \u001b[38;5;129;01min\u001b[39;00m mores:\n\u001b[0;32m      2\u001b[0m     time\u001b[38;5;241m.\u001b[39msleep(\u001b[38;5;241m1\u001b[39m)\n\u001b[1;32m----> 3\u001b[0m     \u001b[43mmore\u001b[49m\u001b[38;5;241;43m.\u001b[39;49m\u001b[43mclick\u001b[49m\u001b[43m(\u001b[49m\u001b[43m)\u001b[49m\n",
      "File \u001b[1;32m~\\AppData\\Local\\Programs\\Python\\Python312\\Lib\\site-packages\\selenium\\webdriver\\remote\\webelement.py:94\u001b[0m, in \u001b[0;36mWebElement.click\u001b[1;34m(self)\u001b[0m\n\u001b[0;32m     92\u001b[0m \u001b[38;5;28;01mdef\u001b[39;00m \u001b[38;5;21mclick\u001b[39m(\u001b[38;5;28mself\u001b[39m) \u001b[38;5;241m-\u001b[39m\u001b[38;5;241m>\u001b[39m \u001b[38;5;28;01mNone\u001b[39;00m:\n\u001b[0;32m     93\u001b[0m \u001b[38;5;250m    \u001b[39m\u001b[38;5;124;03m\"\"\"Clicks the element.\"\"\"\u001b[39;00m\n\u001b[1;32m---> 94\u001b[0m     \u001b[38;5;28;43mself\u001b[39;49m\u001b[38;5;241;43m.\u001b[39;49m\u001b[43m_execute\u001b[49m\u001b[43m(\u001b[49m\u001b[43mCommand\u001b[49m\u001b[38;5;241;43m.\u001b[39;49m\u001b[43mCLICK_ELEMENT\u001b[49m\u001b[43m)\u001b[49m\n",
      "File \u001b[1;32m~\\AppData\\Local\\Programs\\Python\\Python312\\Lib\\site-packages\\selenium\\webdriver\\remote\\webelement.py:395\u001b[0m, in \u001b[0;36mWebElement._execute\u001b[1;34m(self, command, params)\u001b[0m\n\u001b[0;32m    393\u001b[0m     params \u001b[38;5;241m=\u001b[39m {}\n\u001b[0;32m    394\u001b[0m params[\u001b[38;5;124m\"\u001b[39m\u001b[38;5;124mid\u001b[39m\u001b[38;5;124m\"\u001b[39m] \u001b[38;5;241m=\u001b[39m \u001b[38;5;28mself\u001b[39m\u001b[38;5;241m.\u001b[39m_id\n\u001b[1;32m--> 395\u001b[0m \u001b[38;5;28;01mreturn\u001b[39;00m \u001b[38;5;28;43mself\u001b[39;49m\u001b[38;5;241;43m.\u001b[39;49m\u001b[43m_parent\u001b[49m\u001b[38;5;241;43m.\u001b[39;49m\u001b[43mexecute\u001b[49m\u001b[43m(\u001b[49m\u001b[43mcommand\u001b[49m\u001b[43m,\u001b[49m\u001b[43m \u001b[49m\u001b[43mparams\u001b[49m\u001b[43m)\u001b[49m\n",
      "File \u001b[1;32m~\\AppData\\Local\\Programs\\Python\\Python312\\Lib\\site-packages\\selenium\\webdriver\\remote\\webdriver.py:347\u001b[0m, in \u001b[0;36mWebDriver.execute\u001b[1;34m(self, driver_command, params)\u001b[0m\n\u001b[0;32m    345\u001b[0m response \u001b[38;5;241m=\u001b[39m \u001b[38;5;28mself\u001b[39m\u001b[38;5;241m.\u001b[39mcommand_executor\u001b[38;5;241m.\u001b[39mexecute(driver_command, params)\n\u001b[0;32m    346\u001b[0m \u001b[38;5;28;01mif\u001b[39;00m response:\n\u001b[1;32m--> 347\u001b[0m     \u001b[38;5;28;43mself\u001b[39;49m\u001b[38;5;241;43m.\u001b[39;49m\u001b[43merror_handler\u001b[49m\u001b[38;5;241;43m.\u001b[39;49m\u001b[43mcheck_response\u001b[49m\u001b[43m(\u001b[49m\u001b[43mresponse\u001b[49m\u001b[43m)\u001b[49m\n\u001b[0;32m    348\u001b[0m     response[\u001b[38;5;124m\"\u001b[39m\u001b[38;5;124mvalue\u001b[39m\u001b[38;5;124m\"\u001b[39m] \u001b[38;5;241m=\u001b[39m \u001b[38;5;28mself\u001b[39m\u001b[38;5;241m.\u001b[39m_unwrap_value(response\u001b[38;5;241m.\u001b[39mget(\u001b[38;5;124m\"\u001b[39m\u001b[38;5;124mvalue\u001b[39m\u001b[38;5;124m\"\u001b[39m, \u001b[38;5;28;01mNone\u001b[39;00m))\n\u001b[0;32m    349\u001b[0m     \u001b[38;5;28;01mreturn\u001b[39;00m response\n",
      "File \u001b[1;32m~\\AppData\\Local\\Programs\\Python\\Python312\\Lib\\site-packages\\selenium\\webdriver\\remote\\errorhandler.py:229\u001b[0m, in \u001b[0;36mErrorHandler.check_response\u001b[1;34m(self, response)\u001b[0m\n\u001b[0;32m    227\u001b[0m         alert_text \u001b[38;5;241m=\u001b[39m value[\u001b[38;5;124m\"\u001b[39m\u001b[38;5;124malert\u001b[39m\u001b[38;5;124m\"\u001b[39m]\u001b[38;5;241m.\u001b[39mget(\u001b[38;5;124m\"\u001b[39m\u001b[38;5;124mtext\u001b[39m\u001b[38;5;124m\"\u001b[39m)\n\u001b[0;32m    228\u001b[0m     \u001b[38;5;28;01mraise\u001b[39;00m exception_class(message, screen, stacktrace, alert_text)  \u001b[38;5;66;03m# type: ignore[call-arg]  # mypy is not smart enough here\u001b[39;00m\n\u001b[1;32m--> 229\u001b[0m \u001b[38;5;28;01mraise\u001b[39;00m exception_class(message, screen, stacktrace)\n",
      "\u001b[1;31mStaleElementReferenceException\u001b[0m: Message: stale element reference: stale element not found in the current frame\n  (Session info: chrome=125.0.6422.76); For documentation on this error, please visit: https://www.selenium.dev/documentation/webdriver/troubleshooting/errors#stale-element-reference-exception\nStacktrace:\n\tGetHandleVerifier [0x00007FF6DCA11F52+60322]\n\t(No symbol) [0x00007FF6DC98CEC9]\n\t(No symbol) [0x00007FF6DC847EBA]\n\t(No symbol) [0x00007FF6DC84DCEE]\n\t(No symbol) [0x00007FF6DC850641]\n\t(No symbol) [0x00007FF6DC8506E0]\n\t(No symbol) [0x00007FF6DC89968C]\n\t(No symbol) [0x00007FF6DC88B346]\n\t(No symbol) [0x00007FF6DC8BC21A]\n\t(No symbol) [0x00007FF6DC88ADB6]\n\t(No symbol) [0x00007FF6DC8BC430]\n\t(No symbol) [0x00007FF6DC8DBC80]\n\t(No symbol) [0x00007FF6DC8BBFC3]\n\t(No symbol) [0x00007FF6DC889617]\n\t(No symbol) [0x00007FF6DC88A211]\n\tGetHandleVerifier [0x00007FF6DCD294AD+3301629]\n\tGetHandleVerifier [0x00007FF6DCD736D3+3605283]\n\tGetHandleVerifier [0x00007FF6DCD69450+3563680]\n\tGetHandleVerifier [0x00007FF6DCAC4326+790390]\n\t(No symbol) [0x00007FF6DC99750F]\n\t(No symbol) [0x00007FF6DC993404]\n\t(No symbol) [0x00007FF6DC993592]\n\t(No symbol) [0x00007FF6DC982F9F]\n\tBaseThreadInitThunk [0x00007FF8D607257D+29]\n\tRtlUserThreadStart [0x00007FF8D806AA48+40]\n"
     ]
    }
   ],
   "source": [
    "for more in mores:\n",
    "    time.sleep(1)\n",
    "    more.click()"
   ]
  },
  {
   "cell_type": "code",
   "execution_count": 75,
   "id": "6633544f-8390-40ce-bbb5-5e964154f9d0",
   "metadata": {},
   "outputs": [],
   "source": [
    "time.sleep(2)\n",
    "mores[5].click()"
   ]
  },
  {
   "cell_type": "code",
   "execution_count": 26,
   "id": "aafbae35-1242-4dea-996c-43eedf0e1377",
   "metadata": {},
   "outputs": [
    {
     "ename": "KeyboardInterrupt",
     "evalue": "",
     "output_type": "error",
     "traceback": [
      "\u001b[1;31m---------------------------------------------------------------------------\u001b[0m",
      "\u001b[1;31mStaleElementReferenceException\u001b[0m            Traceback (most recent call last)",
      "Cell \u001b[1;32mIn[26], line 4\u001b[0m\n\u001b[0;32m      3\u001b[0m \u001b[38;5;28;01mtry\u001b[39;00m:\n\u001b[1;32m----> 4\u001b[0m     \u001b[43mmore\u001b[49m\u001b[38;5;241;43m.\u001b[39;49m\u001b[43mclick\u001b[49m\u001b[43m(\u001b[49m\u001b[43m)\u001b[49m\n\u001b[0;32m      5\u001b[0m     \u001b[38;5;28;01mbreak\u001b[39;00m\n",
      "File \u001b[1;32m~\\AppData\\Local\\Programs\\Python\\Python312\\Lib\\site-packages\\selenium\\webdriver\\remote\\webelement.py:94\u001b[0m, in \u001b[0;36mWebElement.click\u001b[1;34m(self)\u001b[0m\n\u001b[0;32m     93\u001b[0m \u001b[38;5;250m\u001b[39m\u001b[38;5;124;03m\"\"\"Clicks the element.\"\"\"\u001b[39;00m\n\u001b[1;32m---> 94\u001b[0m \u001b[38;5;28;43mself\u001b[39;49m\u001b[38;5;241;43m.\u001b[39;49m\u001b[43m_execute\u001b[49m\u001b[43m(\u001b[49m\u001b[43mCommand\u001b[49m\u001b[38;5;241;43m.\u001b[39;49m\u001b[43mCLICK_ELEMENT\u001b[49m\u001b[43m)\u001b[49m\n",
      "File \u001b[1;32m~\\AppData\\Local\\Programs\\Python\\Python312\\Lib\\site-packages\\selenium\\webdriver\\remote\\webelement.py:395\u001b[0m, in \u001b[0;36mWebElement._execute\u001b[1;34m(self, command, params)\u001b[0m\n\u001b[0;32m    394\u001b[0m params[\u001b[38;5;124m\"\u001b[39m\u001b[38;5;124mid\u001b[39m\u001b[38;5;124m\"\u001b[39m] \u001b[38;5;241m=\u001b[39m \u001b[38;5;28mself\u001b[39m\u001b[38;5;241m.\u001b[39m_id\n\u001b[1;32m--> 395\u001b[0m \u001b[38;5;28;01mreturn\u001b[39;00m \u001b[38;5;28;43mself\u001b[39;49m\u001b[38;5;241;43m.\u001b[39;49m\u001b[43m_parent\u001b[49m\u001b[38;5;241;43m.\u001b[39;49m\u001b[43mexecute\u001b[49m\u001b[43m(\u001b[49m\u001b[43mcommand\u001b[49m\u001b[43m,\u001b[49m\u001b[43m \u001b[49m\u001b[43mparams\u001b[49m\u001b[43m)\u001b[49m\n",
      "File \u001b[1;32m~\\AppData\\Local\\Programs\\Python\\Python312\\Lib\\site-packages\\selenium\\webdriver\\remote\\webdriver.py:347\u001b[0m, in \u001b[0;36mWebDriver.execute\u001b[1;34m(self, driver_command, params)\u001b[0m\n\u001b[0;32m    346\u001b[0m \u001b[38;5;28;01mif\u001b[39;00m response:\n\u001b[1;32m--> 347\u001b[0m     \u001b[38;5;28;43mself\u001b[39;49m\u001b[38;5;241;43m.\u001b[39;49m\u001b[43merror_handler\u001b[49m\u001b[38;5;241;43m.\u001b[39;49m\u001b[43mcheck_response\u001b[49m\u001b[43m(\u001b[49m\u001b[43mresponse\u001b[49m\u001b[43m)\u001b[49m\n\u001b[0;32m    348\u001b[0m     response[\u001b[38;5;124m\"\u001b[39m\u001b[38;5;124mvalue\u001b[39m\u001b[38;5;124m\"\u001b[39m] \u001b[38;5;241m=\u001b[39m \u001b[38;5;28mself\u001b[39m\u001b[38;5;241m.\u001b[39m_unwrap_value(response\u001b[38;5;241m.\u001b[39mget(\u001b[38;5;124m\"\u001b[39m\u001b[38;5;124mvalue\u001b[39m\u001b[38;5;124m\"\u001b[39m, \u001b[38;5;28;01mNone\u001b[39;00m))\n",
      "File \u001b[1;32m~\\AppData\\Local\\Programs\\Python\\Python312\\Lib\\site-packages\\selenium\\webdriver\\remote\\errorhandler.py:229\u001b[0m, in \u001b[0;36mErrorHandler.check_response\u001b[1;34m(self, response)\u001b[0m\n\u001b[0;32m    228\u001b[0m     \u001b[38;5;28;01mraise\u001b[39;00m exception_class(message, screen, stacktrace, alert_text)  \u001b[38;5;66;03m# type: ignore[call-arg]  # mypy is not smart enough here\u001b[39;00m\n\u001b[1;32m--> 229\u001b[0m \u001b[38;5;28;01mraise\u001b[39;00m exception_class(message, screen, stacktrace)\n",
      "\u001b[1;31mStaleElementReferenceException\u001b[0m: Message: stale element reference: stale element not found in the current frame\n  (Session info: chrome=125.0.6422.76); For documentation on this error, please visit: https://www.selenium.dev/documentation/webdriver/troubleshooting/errors#stale-element-reference-exception\nStacktrace:\n\tGetHandleVerifier [0x00007FF6DCA11F52+60322]\n\t(No symbol) [0x00007FF6DC98CEC9]\n\t(No symbol) [0x00007FF6DC847EBA]\n\t(No symbol) [0x00007FF6DC84DCEE]\n\t(No symbol) [0x00007FF6DC850641]\n\t(No symbol) [0x00007FF6DC8506E0]\n\t(No symbol) [0x00007FF6DC89968C]\n\t(No symbol) [0x00007FF6DC88B346]\n\t(No symbol) [0x00007FF6DC8BC21A]\n\t(No symbol) [0x00007FF6DC88ADB6]\n\t(No symbol) [0x00007FF6DC8BC430]\n\t(No symbol) [0x00007FF6DC8DBC80]\n\t(No symbol) [0x00007FF6DC8BBFC3]\n\t(No symbol) [0x00007FF6DC889617]\n\t(No symbol) [0x00007FF6DC88A211]\n\tGetHandleVerifier [0x00007FF6DCD294AD+3301629]\n\tGetHandleVerifier [0x00007FF6DCD736D3+3605283]\n\tGetHandleVerifier [0x00007FF6DCD69450+3563680]\n\tGetHandleVerifier [0x00007FF6DCAC4326+790390]\n\t(No symbol) [0x00007FF6DC99750F]\n\t(No symbol) [0x00007FF6DC993404]\n\t(No symbol) [0x00007FF6DC993592]\n\t(No symbol) [0x00007FF6DC982F9F]\n\tBaseThreadInitThunk [0x00007FF8D607257D+29]\n\tRtlUserThreadStart [0x00007FF8D806AA48+40]\n",
      "\nDuring handling of the above exception, another exception occurred:\n",
      "\u001b[1;31mKeyboardInterrupt\u001b[0m                         Traceback (most recent call last)",
      "Cell \u001b[1;32mIn[26], line 8\u001b[0m\n\u001b[0;32m      6\u001b[0m     \u001b[38;5;28;01mexcept\u001b[39;00m \u001b[38;5;167;01mException\u001b[39;00m \u001b[38;5;28;01mas\u001b[39;00m e:\n\u001b[0;32m      7\u001b[0m         driver\u001b[38;5;241m.\u001b[39mexecute_script(\u001b[38;5;124m\"\u001b[39m\u001b[38;5;124mwindow.scrollBy(0, -200);\u001b[39m\u001b[38;5;124m\"\u001b[39m)\n\u001b[1;32m----> 8\u001b[0m         \u001b[43mtime\u001b[49m\u001b[38;5;241;43m.\u001b[39;49m\u001b[43msleep\u001b[49m\u001b[43m(\u001b[49m\u001b[38;5;241;43m1\u001b[39;49m\u001b[43m)\u001b[49m\n\u001b[0;32m      9\u001b[0m         \u001b[38;5;28;01mcontinue\u001b[39;00m\n\u001b[0;32m     11\u001b[0m time\u001b[38;5;241m.\u001b[39msleep(\u001b[38;5;241m1\u001b[39m)\n",
      "\u001b[1;31mKeyboardInterrupt\u001b[0m: "
     ]
    }
   ],
   "source": [
    "for more in mores:\n",
    "    while True:\n",
    "        try:\n",
    "            more.click()\n",
    "            break\n",
    "        except Exception as e:\n",
    "            driver.execute_script(\"window.scrollBy(0, -200);\")\n",
    "            time.sleep(1)\n",
    "            continue\n",
    "    \n",
    "    time.sleep(1)"
   ]
  },
  {
   "cell_type": "code",
   "execution_count": 19,
   "id": "9c6d65f9",
   "metadata": {},
   "outputs": [
    {
     "name": "stdout",
     "output_type": "stream",
     "text": [
      "<selenium.webdriver.remote.webelement.WebElement (session=\"9894ada81e7c8a0b3ef4ab3f4a05582e\", element=\"f.E0838BABBB8FFC83D1BE3D77146349ED.d.CDD148F4A6142A89DC9DBC3A639504FE.e.1665\")>\n",
      "ucsdmishelanu\n",
      "Thank you to everyone who came to our end of the year Al-ha-esh!!! Have a good summer ☀️😎\n",
      "https://scontent.cdninstagram.com/v/t51.29350-15/446354805_3718957008352514_287878057341352712_n.jpg?stp=dst-jpg_e35&efg=eyJ2ZW5jb2RlX3RhZyI6ImltYWdlX3VybGdlbi4xNDQweDE3OTkuc2RyLmYyOTM1MCJ9&_nc_ht=scontent.cdninstagram.com&_nc_cat=102&_nc_ohc=oP5MeRTRriIQ7kNvgFpjlw9&edm=APs17CUBAAAA&ccb=7-5&ig_cache_key=MzM4MDM0MjY1NjYxNzQ4NTE5Nw%3D%3D.2-ccb7-5&oh=00_AYCCn0M6HHzTPT1yet_v-1ZvY4brgYNl0GFVSreraGpuFw&oe=66604A92&_nc_sid=10d13b\n",
      "https://scontent.cdninstagram.com/v/t51.29350-15/447232570_2802621586585844_474991343305458642_n.jpg?stp=dst-jpg_e35&efg=eyJ2ZW5jb2RlX3RhZyI6ImltYWdlX3VybGdlbi4xNDQweDE3OTkuc2RyLmYyOTM1MCJ9&_nc_ht=scontent.cdninstagram.com&_nc_cat=108&_nc_ohc=vcS23cCR7iEQ7kNvgFBrx_e&edm=APs17CUBAAAA&ccb=7-5&ig_cache_key=MzM4MDM0MjY1NjYxNzQ5MTMzNg%3D%3D.2-ccb7-5&oh=00_AYDV3zZ-fyFAPU42_JKV3E0mxkMuP7TxPn26-yHJttAf3g&oe=66601660&_nc_sid=10d13b\n",
      "\n",
      "\n",
      "<selenium.webdriver.remote.webelement.WebElement (session=\"9894ada81e7c8a0b3ef4ab3f4a05582e\", element=\"f.E0838BABBB8FFC83D1BE3D77146349ED.d.CDD148F4A6142A89DC9DBC3A639504FE.e.1664\")>\n",
      "ucsd_dots\n",
      "caption errorMessage: stale element reference: stale element not found in the current frame\n",
      "  (Session info: chrome=125.0.6422.113); For documentation on this error, please visit: https://www.selenium.dev/documentation/webdriver/troubleshooting/errors#stale-element-reference-exception\n",
      "Stacktrace:\n",
      "0   chromedriver                        0x0000000107e836b8 chromedriver + 6149816\n",
      "1   chromedriver                        0x0000000107e7acda chromedriver + 6114522\n",
      "2   chromedriver                        0x0000000107907d5c chromedriver + 400732\n",
      "3   chromedriver                        0x000000010790d5a3 chromedriver + 423331\n",
      "4   chromedriver                        0x000000010790f34f chromedriver + 430927\n",
      "5   chromedriver                        0x000000010790f3fc chromedriver + 431100\n",
      "6   chromedriver                        0x00000001079548ad chromedriver + 714925\n",
      "7   chromedriver                        0x0000000107954bf1 chromedriver + 715761\n",
      "8   chromedriver                        0x0000000107949106 chromedriver + 667910\n",
      "9   chromedriver                        0x0000000107977cdd chromedriver + 859357\n",
      "10  chromedriver                        0x0000000107948fe8 chromedriver + 667624\n",
      "11  chromedriver                        0x0000000107977e6e chromedriver + 859758\n",
      "12  chromedriver                        0x00000001079970db chromedriver + 987355\n",
      "13  chromedriver                        0x0000000107977a53 chromedriver + 858707\n",
      "14  chromedriver                        0x00000001079476d5 chromedriver + 661205\n",
      "15  chromedriver                        0x0000000107947f6e chromedriver + 663406\n",
      "16  chromedriver                        0x0000000107e44cf0 chromedriver + 5893360\n",
      "17  chromedriver                        0x0000000107e4a4bc chromedriver + 5915836\n",
      "18  chromedriver                        0x0000000107e268b4 chromedriver + 5769396\n",
      "19  chromedriver                        0x0000000107e4af89 chromedriver + 5918601\n",
      "20  chromedriver                        0x0000000107e17ec4 chromedriver + 5709508\n",
      "21  chromedriver                        0x0000000107e6b008 chromedriver + 6049800\n",
      "22  chromedriver                        0x0000000107e6b1c7 chromedriver + 6050247\n",
      "23  chromedriver                        0x0000000107e7a88e chromedriver + 6113422\n",
      "24  libsystem_pthread.dylib             0x00007ff80b36d18b _pthread_start + 99\n",
      "25  libsystem_pthread.dylib             0x00007ff80b368ae3 thread_start + 15\n",
      "\n",
      "image errorMessage: stale element reference: stale element not found in the current frame\n",
      "  (Session info: chrome=125.0.6422.113); For documentation on this error, please visit: https://www.selenium.dev/documentation/webdriver/troubleshooting/errors#stale-element-reference-exception\n",
      "Stacktrace:\n",
      "0   chromedriver                        0x0000000107e836b8 chromedriver + 6149816\n",
      "1   chromedriver                        0x0000000107e7acda chromedriver + 6114522\n",
      "2   chromedriver                        0x0000000107907d5c chromedriver + 400732\n",
      "3   chromedriver                        0x000000010790d5a3 chromedriver + 423331\n",
      "4   chromedriver                        0x000000010790f34f chromedriver + 430927\n",
      "5   chromedriver                        0x000000010790f3fc chromedriver + 431100\n",
      "6   chromedriver                        0x00000001079548ad chromedriver + 714925\n",
      "7   chromedriver                        0x0000000107954bf1 chromedriver + 715761\n",
      "8   chromedriver                        0x0000000107949483 chromedriver + 668803\n",
      "9   chromedriver                        0x0000000107977cdd chromedriver + 859357\n",
      "10  chromedriver                        0x0000000107948fe8 chromedriver + 667624\n",
      "11  chromedriver                        0x0000000107977e6e chromedriver + 859758\n",
      "12  chromedriver                        0x00000001079970db chromedriver + 987355\n",
      "13  chromedriver                        0x0000000107977a53 chromedriver + 858707\n",
      "14  chromedriver                        0x00000001079476d5 chromedriver + 661205\n",
      "15  chromedriver                        0x0000000107947f6e chromedriver + 663406\n",
      "16  chromedriver                        0x0000000107e44cf0 chromedriver + 5893360\n",
      "17  chromedriver                        0x0000000107e4a4bc chromedriver + 5915836\n",
      "18  chromedriver                        0x0000000107e268b4 chromedriver + 5769396\n",
      "19  chromedriver                        0x0000000107e4af89 chromedriver + 5918601\n",
      "20  chromedriver                        0x0000000107e17ec4 chromedriver + 5709508\n",
      "21  chromedriver                        0x0000000107e6b008 chromedriver + 6049800\n",
      "22  chromedriver                        0x0000000107e6b1c7 chromedriver + 6050247\n",
      "23  chromedriver                        0x0000000107e7a88e chromedriver + 6113422\n",
      "24  libsystem_pthread.dylib             0x00007ff80b36d18b _pthread_start + 99\n",
      "25  libsystem_pthread.dylib             0x00007ff80b368ae3 thread_start + 15\n",
      "\n",
      "<selenium.webdriver.remote.webelement.WebElement (session=\"9894ada81e7c8a0b3ef4ab3f4a05582e\", element=\"f.E0838BABBB8FFC83D1BE3D77146349ED.d.CDD148F4A6142A89DC9DBC3A639504FE.e.1663\")>\n",
      "ucsdcse\n",
      "Get ready to debug to the finish line! 🎓 The CSE alumni board is hosting their 2nd annual CSE Graduation Celebration on ... \n",
      "more\n",
      "https://scontent.cdninstagram.com/v/t51.29350-15/447187845_833035132055384_2169222700694137159_n.jpg?stp=dst-jpg_e35&efg=eyJ2ZW5jb2RlX3RhZyI6ImltYWdlX3VybGdlbi4xNDQweDE0NDAuc2RyLmYyOTM1MCJ9&_nc_ht=scontent.cdninstagram.com&_nc_cat=108&_nc_ohc=4fnW4GIfT9cQ7kNvgFCHI8l&edm=APs17CUBAAAA&ccb=7-5&ig_cache_key=MzM4MDM3MTM2MDg5MDY4MzMzOQ%3D%3D.2-ccb7-5&oh=00_AYBmzu-laS444uQt7OcCBlmp4aidwCpN2Ar1seFgZOYODw&oe=666042DD&_nc_sid=10d13b\n",
      "https://scontent.cdninstagram.com/v/t51.29350-15/447106496_446596127956219_2047240146169338855_n.jpg?stp=dst-jpg_e35&efg=eyJ2ZW5jb2RlX3RhZyI6ImltYWdlX3VybGdlbi4xNDQweDE0NDAuc2RyLmYyOTM1MCJ9&_nc_ht=scontent.cdninstagram.com&_nc_cat=107&_nc_ohc=qaN64q4gvT0Q7kNvgGgQNGQ&edm=APs17CUBAAAA&ccb=7-5&ig_cache_key=MzM4MDM3MTM2MDg5MDczMDY4NA%3D%3D.2-ccb7-5&oh=00_AYDW79fC3ppiJxfwZiDVhm5t9IBSm7-stRoXfHeJrd5phg&oe=66602F5C&_nc_sid=10d13b\n",
      "\n",
      "\n",
      "<selenium.webdriver.remote.webelement.WebElement (session=\"9894ada81e7c8a0b3ef4ab3f4a05582e\", element=\"f.E0838BABBB8FFC83D1BE3D77146349ED.d.CDD148F4A6142A89DC9DBC3A639504FE.e.1662\")>\n",
      "ucsdlibrary\n",
      "#TodayILearned Clara Chung is a Korean-American singer-songwriter who graduated from @UCSanDiego in 2010. Clara played concerts on campus as a student and even returned after graduation. #tilucsd #AAPIHM\n",
      ".\n",
      "📷 UCSD Guardian, Special Collections & Archives, UC San Diego\n",
      ".\n",
      "Read her full feature in the UCSD Guardian newspaper ➡️ https://bit.ly/3wirFFD. LINK IN BIO!\n",
      "https://scontent.cdninstagram.com/v/t51.2885-15/447062382_463950109550737_2907518190062994049_n.jpg?stp=dst-jpg_e35&efg=eyJ2ZW5jb2RlX3RhZyI6ImltYWdlX3VybGdlbi45NDR4NTg0LnNkci5mMjg4NSJ9&_nc_ht=scontent.cdninstagram.com&_nc_cat=101&_nc_ohc=I_qKFR1QzycQ7kNvgE_FSU8&edm=APs17CUBAAAA&ccb=7-5&ig_cache_key=MzM4MDM3MjEzOTIzNTI1MTM1MQ%3D%3D.2-ccb7-5&oh=00_AYDBz6jb4WHGCOMaaOmMUBXxX_zif0M1BJRZbLKymQClsw&oe=66602627&_nc_sid=10d13b\n",
      "\n",
      "\n",
      "<selenium.webdriver.remote.webelement.WebElement (session=\"9894ada81e7c8a0b3ef4ab3f4a05582e\", element=\"f.E0838BABBB8FFC83D1BE3D77146349ED.d.CDD148F4A6142A89DC9DBC3A639504FE.e.1619\")>\n",
      "ksdtradio\n"
     ]
    },
    {
     "name": "stdout",
     "output_type": "stream",
     "text": [
      "𝗔𝗥𝗧 𝗝𝗢𝗬 𝗠𝗨𝗦𝗜𝗖 𝗙𝗘𝗦𝗧𝗜𝗩𝗔𝗟 𝗙𝗢𝗥 𝗣𝗔𝗟𝗘𝗦𝗧𝗜𝗡𝗘 🇵🇸\n",
      "\n",
      "June 6th | 4PM-10PM | The Stageroom\n",
      "\n",
      "Proudly brought to you by KSDT Radio, Mandeville Art Collective, Antifragile Zine, En Route, Triton TV, TREND, Jewish Voices for Peace, and more!\n",
      "\n",
      "A celebration of student creatives at UCSD and a gathering for solidarity 🍉♥️\n",
      "This festival aims to bring together our community in support of Palestine by showcasing students’ musical and artistic talents.\n",
      "\n",
      "Making a commitment to aid humanitarian causes and with the help of Jewish Voices for Peace, we will be encouraging our guests to donate to an emergency/relief fund for Palestine at our event.\n",
      "\n",
      "Bring friends and come through for a great time of student live music, crafts, art exhibition, DJ sets, catered food, and more!!\n",
      "https://scontent.cdninstagram.com/v/t39.30808-6/447203360_18433368178005719_3433389476175465177_n.jpg?stp=dst-jpg_e35&efg=eyJ2ZW5jb2RlX3RhZyI6ImltYWdlX3VybGdlbi43OTl4Nzk5LnNkci5mMzA4MDgifQ&_nc_ht=scontent.cdninstagram.com&_nc_cat=111&_nc_ohc=ZLl-HwjUeY8Q7kNvgF7RP_R&edm=APs17CUAAAAA&ccb=7-5&ig_cache_key=MzM4MDM3ODI2NDk2NjU5NjgxMQ%3D%3D.2-ccb7-5&oh=00_AYDT6ZTBzlM_iFLnsRrz83pe2mILh48ue_jy7HdPHjg8CA&oe=666013AD&_nc_sid=10d13b\n",
      "\n",
      "\n",
      "<selenium.webdriver.remote.webelement.WebElement (session=\"9894ada81e7c8a0b3ef4ab3f4a05582e\", element=\"f.E0838BABBB8FFC83D1BE3D77146349ED.d.CDD148F4A6142A89DC9DBC3A639504FE.e.1618\")>\n",
      "tritontransfers\n",
      "📢 Important Announcements from the Triton Transfer Hub!💙💛\n",
      "\n",
      "1️⃣ Early Closure: The Transfer Hub will close early on Wednesday (6/5) at 4pm. Open hours will be 9:00am-4:00pm. Normal hours will resume Monday, Tuesday, Thursday, and Friday. For questions, email tritontransfers@ucsd.edu.\n",
      "\n",
      "2️⃣ Finals Week Hours: During Finals Week (6/10 - 6/14), the Transfer Hub will have adjusted hours:\n",
      "\n",
      "Monday - Tuesday: 9:00am-7:00pm\n",
      "Wednesday - Thursday: 9:00am-6:00pm\n",
      "Friday: CLOSED\n",
      "\n",
      "Good luck with your finals, Tritons! 🔱\n",
      "\n",
      "#TritonTransfers #UCSD #FinalsWeek #StayInformed #GoodLuck\n",
      "https://scontent.cdninstagram.com/v/t51.29350-15/447138361_996521805156846_304299870215985838_n.heic?stp=dst-jpg_e35&efg=eyJ2ZW5jb2RlX3RhZyI6ImltYWdlX3VybGdlbi4xMDgweDEwODAuc2RyLmYyOTM1MCJ9&_nc_ht=scontent.cdninstagram.com&_nc_cat=106&_nc_ohc=_GcHdwPUt80Q7kNvgGYiNTV&edm=APs17CUBAAAA&ccb=7-5&ig_cache_key=MzM4MDM4OTk0NDc3Nzg0MDY3Ng%3D%3D.2-ccb7-5&oh=00_AYD1fJv1CigPzJtWnhDVqAsR9ejWbRB8wwUYtc4i6xv00w&oe=666019C9&_nc_sid=10d13b\n",
      "https://scontent.cdninstagram.com/v/t51.29350-15/447133054_1140577243937235_5183590312761619934_n.heic?stp=dst-jpg_e35&efg=eyJ2ZW5jb2RlX3RhZyI6ImltYWdlX3VybGdlbi4xMDgweDEwODAuc2RyLmYyOTM1MCJ9&_nc_ht=scontent.cdninstagram.com&_nc_cat=103&_nc_ohc=KmfkirO-3doQ7kNvgF_xpMG&edm=APs17CUBAAAA&ccb=7-5&ig_cache_key=MzM4MDM4OTk0NDc3Nzc3MDkxOQ%3D%3D.2-ccb7-5&oh=00_AYD4MvTKo3BE4_RbqmjbYKNI7-l7gK1AP_Zbgg6kNUg3UQ&oe=666013D4&_nc_sid=10d13b\n",
      "\n",
      "\n"
     ]
    }
   ],
   "source": [
    "\n",
    "## this is code copied from online to scroll the feed. I created the superlists, captions, images, and usernames.\n",
    "## In each iteration of the loop, I find captions_batch, images_batch, usernames_batch which are data \n",
    "##for that scroll of the feed and then I extend these to the superlists. The problem is that .text doesn't work on\n",
    "### some of the elemenets when running the loop to scroll.\n",
    "\n",
    "'''\n",
    "prev_height = -1\n",
    "max_scrolls = 5\n",
    "scroll_count = 0\n",
    "\n",
    "captions = []\n",
    "images = []\n",
    "usernames = []\n",
    "'''\n",
    "\n",
    "\n",
    "'''while scroll_count < max_scrolls:\n",
    "    driver.execute_script(\"window.scrollTo(0, document.body.scrollHeight);\")\n",
    "    time.sleep(1)  # give some time for new results to load\n",
    "    new_height = driver.execute_script(\"return document.body.scrollHeight\")\n",
    "    if new_height == prev_height:\n",
    "        break\n",
    "    prev_height = new_height\n",
    "    scroll_count += 1\n",
    "  #  mores = driver.find_elements(By.CSS_SELECTOR, \"span[class='x1lliihq x1plvlek xryxfnj x1n2onr6 x193iq5w xeuugli x1fj9vlw x13faqbe x1vvkbs x1s928wv xhkezso x1gmr53x x1cpjm7i x1fgarty x1943h6x x1i0vuye xvs91rp xo1l8bm x1roi4f4 x1yc453h x10wh9bi x1wdrske x8viiok x18hxmgj']\")\n",
    "   # for more in mores:\n",
    "    #    m = WebDriverWait(driver, 10).until(EC.element_to_be_clickable((By.CSS_SELECTOR, \"span[class='x1lliihq x1plvlek xryxfnj x1n2onr6 x193iq5w xeuugli x1fj9vlw x13faqbe x1vvkbs x1s928wv xhkezso x1gmr53x x1cpjm7i x1fgarty x1943h6x x1i0vuye xvs91rp xo1l8bm x1roi4f4 x1yc453h x10wh9bi x1wdrske x8viiok x18hxmgj']\"))).click()\n",
    "\n",
    "    captions_batch = driver.find_elements(By.CSS_SELECTOR, \"span[class='_ap3a _aaco _aacu _aacx _aad7 _aade']\")\n",
    "    images_batch = driver.find_elements(By.CSS_SELECTOR,\"div[class='_aagv']>img\")\n",
    "    usernames_batch = driver.find_elements(By.CSS_SELECTOR,\"span[class='_ap3a _aaco _aacw _aacx _aad7 _aade']\")\n",
    "    captions.extend(captions_batch)\n",
    "    usernames.extend(usernames_batch)\n",
    "    images.extend(images_batch)\n",
    "   # for username in usernames_batch:\n",
    "     #   print(username.text)\n",
    "    \n",
    "   # for caption in captions_batch:\n",
    "     #   print(caption.text)\n",
    "    \n",
    "   # for image in images_batch:\n",
    "   #     print(image.get_attribute('src'))\n",
    "'''\n",
    "\n",
    "#Working code to get profile, text, and image of current posts loaded\n",
    "#Will only get a maximum of 2 pictures per post\n",
    "'''\n",
    "html = driver.page_source\n",
    "\n",
    "mores = driver.find_elements(By.CSS_SELECTOR, \"span[class='x1lliihq x1plvlek xryxfnj x1n2onr6 x193iq5w xeuugli x1fj9vlw x13faqbe x1vvkbs x1s928wv xhkezso x1gmr53x x1cpjm7i x1fgarty x1943h6x x1i0vuye xvs91rp xo1l8bm x1roi4f4 x1yc453h x10wh9bi x1wdrske x8viiok x18hxmgj']\")\n",
    "for more in mores:\n",
    "    m = WebDriverWait(driver, 10).until(EC.element_to_be_clickable((By.CSS_SELECTOR, \"span[class='x1lliihq x1plvlek xryxfnj x1n2onr6 x193iq5w xeuugli x1fj9vlw x13faqbe x1vvkbs x1s928wv xhkezso x1gmr53x x1cpjm7i x1fgarty x1943h6x x1i0vuye xvs91rp xo1l8bm x1roi4f4 x1yc453h x10wh9bi x1wdrske x8viiok x18hxmgj']\"))).click()\n",
    "\n",
    "#usernames = driver.find_elements(By.CSS_SELECTOR,\"span[class='_ap3a _aaco _aacw _aacx _aad7 _aade']\")\n",
    "usernames = driver.find_elements(By.CSS_SELECTOR,\"div[class='x1rg5ohu xw3qccf']\")\n",
    "#captions = driver.find_elements(By.CSS_SELECTOR, \"span[class='_ap3a _aaco _aacu _aacx _aad7 _aade']\")\n",
    "#captions = driver.find_elements(By.CSS_SELECTOR, \"div[class='x9f619 xjbqb8w x1rg5ohu x168nmei x13lgxp2 x5pf9jr xo71vjh x1uhb9sk x1plvlek xryxfnj x1c4vz4f x2lah0s x1q0g3np xqjyukv x1qjc9v5 x1oa3qoh x1nhvcw1 x1xmf6yo']\")\n",
    "captions = driver.find_elements(By.XPATH,\"//div[@style='display: inline;']//span[@class='_ap3a _aaco _aacu _aacx _aad7 _aade']\")\n",
    "#images = driver.find_elements(By.CSS_SELECTOR,\"div[class='_aagv']>img\")\n",
    "\n",
    "\n",
    "for username in usernames:\n",
    "    print(username.text)\n",
    "    \n",
    "for caption in captions:\n",
    "    print(caption.text)\n",
    "    \n",
    "for image in images:\n",
    "    print(image.get_attribute('src'))'''\n",
    "\n",
    "#This will go through post by post and find the same elements\n",
    "#Will only get a maximum of 2 pictures per post\n",
    "html = driver.page_source\n",
    "\n",
    "posts = driver.find_elements(By.CSS_SELECTOR,\"div[class='x78zum5 xdt5ytf x5yr21d xa1mljc xh8yej3 x1bs97v6 x1q0q8m5 xso031l x11aubdm xnc8uc2']\")\n",
    "while (len(posts) != 6):\n",
    "    driver.execute_script(\"window.scrollBy(0, 100);\")\n",
    "    posts = driver.find_elements(By.CSS_SELECTOR,\"div[class='x78zum5 xdt5ytf x5yr21d xa1mljc xh8yej3 x1bs97v6 x1q0q8m5 xso031l x11aubdm xnc8uc2']\")\n",
    "\n",
    "for post in reversed(posts):\n",
    "    \n",
    "    print(post)\n",
    "    \n",
    "    try:\n",
    "        username = post.find_element(By.CSS_SELECTOR,\"div[class='x1rg5ohu xw3qccf']\")\n",
    "         \n",
    "        print(username.text)\n",
    "        \n",
    "    except Exception as e: \n",
    "        print (\"username error\" + str(e))\n",
    "    WebDriverWait(driver, 10).until(EC.element_to_be_clickable((By.CSS_SELECTOR, \"span[class='x1lliihq x1plvlek xryxfnj x1n2onr6 x193iq5w xeuugli x1fj9vlw x13faqbe x1vvkbs x1s928wv xhkezso x1gmr53x x1cpjm7i x1fgarty x1943h6x x1i0vuye xvs91rp xo1l8bm x1roi4f4 x1yc453h x10wh9bi x1wdrske x8viiok x18hxmgj']\"))).click()\n",
    "    \n",
    "    try:\n",
    "        caption = post.find_element(By.CSS_SELECTOR,\"span[class='_ap3a _aaco _aacu _aacx _aad7 _aade']\")\n",
    "        print(caption.text)\n",
    "    except Exception as e: \n",
    "        print (\"caption error\" + str(e))\n",
    "        \n",
    "    try: \n",
    "        images = post.find_elements(By.CSS_SELECTOR,\"div[class='_aagv']>img\")\n",
    "        for image in images:\n",
    "            print(image.get_attribute('src'))\n",
    "        print(\"\\n\")\n",
    "    except Exception as e: \n",
    "        print (\"image error\" + str(e))\n"
   ]
  },
  {
   "cell_type": "code",
   "execution_count": null,
   "id": "baf548a2",
   "metadata": {},
   "outputs": [],
   "source": [
    "driver.quit()"
   ]
  },
  {
   "cell_type": "code",
   "execution_count": null,
   "id": "c267ab4e",
   "metadata": {},
   "outputs": [],
   "source": []
  },
  {
   "cell_type": "code",
   "execution_count": null,
   "id": "6fe239f7",
   "metadata": {},
   "outputs": [],
   "source": []
  },
  {
   "cell_type": "code",
   "execution_count": null,
   "id": "4a71cdc9",
   "metadata": {},
   "outputs": [],
   "source": []
  }
 ],
 "metadata": {
  "kernelspec": {
   "display_name": "Python 3 (ipykernel)",
   "language": "python",
   "name": "python3"
  },
  "language_info": {
   "codemirror_mode": {
    "name": "ipython",
    "version": 3
   },
   "file_extension": ".py",
   "mimetype": "text/x-python",
   "name": "python",
   "nbconvert_exporter": "python",
   "pygments_lexer": "ipython3",
   "version": "3.12.3"
  }
 },
 "nbformat": 4,
 "nbformat_minor": 5
}
