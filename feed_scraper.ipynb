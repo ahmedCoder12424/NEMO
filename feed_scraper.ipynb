{
 "cells": [
  {
   "cell_type": "code",
   "execution_count": 5,
   "id": "768780be",
   "metadata": {},
   "outputs": [],
   "source": [
    "from selenium import webdriver\n",
    "\n",
    "from webdriver_manager.chrome import ChromeDriverManager\n",
    "from selenium.webdriver.support.wait import WebDriverWait\n",
    "from selenium.webdriver.support import expected_conditions as EC\n",
    "from selenium.webdriver.common.by import By\n",
    "import random\n",
    "import time"
   ]
  },
  {
   "cell_type": "code",
   "execution_count": 18,
   "id": "0f2c010e",
   "metadata": {},
   "outputs": [],
   "source": [
    "options=webdriver.ChromeOptions()\n",
    "#options.add_argument('--headless-new') #open browser in background\n",
    "driver = webdriver.Chrome(options=options)\n",
    "driver.get('https://www.instagram.com')"
   ]
  },
  {
   "cell_type": "code",
   "execution_count": 19,
   "id": "8d6a77ef",
   "metadata": {},
   "outputs": [],
   "source": [
    "username = WebDriverWait(driver, 10).until(EC.element_to_be_clickable((By.CSS_SELECTOR, \"input[name='username']\")))\n",
    "password = WebDriverWait(driver, 10).until(EC.element_to_be_clickable((By.CSS_SELECTOR, \"input[name='password']\")))\n",
    "username.clear()\n",
    "password.clear()\n",
    "username.send_keys('folsomfatties69')\n",
    "time.sleep(0.5)\n",
    "password.send_keys('fattyPatties31$')"
   ]
  },
  {
   "cell_type": "code",
   "execution_count": 20,
   "id": "0a54f85c",
   "metadata": {},
   "outputs": [],
   "source": [
    "log_in = WebDriverWait(driver, 10).until(EC.element_to_be_clickable((By.CSS_SELECTOR, \"button[type='submit']\"))).click()\n",
    "time.sleep(3)\n",
    "popup = WebDriverWait(driver, 10).until(EC.element_to_be_clickable((By.CSS_SELECTOR, \"div[tabindex='0']\"))).click()\n",
    "time.sleep(0.5)\n",
    "popup2 = WebDriverWait(driver, 10).until(EC.element_to_be_clickable((By.CSS_SELECTOR, \"button[class='_a9-- _ap36 _a9_1']\"))).click()\n",
    "driver.get('https://www.instagram.com/?variant=following')"
   ]
  },
  {
   "cell_type": "code",
   "execution_count": 16,
   "id": "9c6d65f9",
   "metadata": {},
   "outputs": [
    {
     "name": "stdout",
     "output_type": "stream",
     "text": [
      "YES\n",
      "ucsdroosevelt\n",
      "ucsdroosevelt\n",
      "folsomfatties69\n",
      "folsomfatties69\n",
      "sixthcollege\n",
      "sixthcollege\n",
      "alphaphiucsd\n",
      "alphaphiucsd\n",
      "Please join us for an ERC community Listening Space as we process recent events on Tuesday, May 14th from 3:00-4:00pm at... \n",
      "more\n",
      "Please join us for an ERC community Listening Space as we process recent events on Tuesday, May 14th from 3:00-4:00pm at\n",
      "Back in Folsom, let's go fatties!!!\n",
      "Back in Folsom, let's go fatties!!!\n",
      "In collaboration with the Cross-Cultural Center, join us on Tuesday, May 21 from 11 am to 12 pm as we engage in... \n",
      "more\n",
      "In collaboration with the Cross-Cultural Center, join us on Tuesday, May 21 from 11 am to 12 pm as we engage in\n",
      "Another week, another #newmembermonday! 🌟\n",
      "... \n",
      "more\n",
      "Another week, another #newmembermonday! 🌟\n",
      "https://scontent.cdninstagram.com/v/t51.29350-15/442678312_1493781197930671_709606800321102495_n.jpg?stp=dst-jpg_e35&efg=eyJ2ZW5jb2RlX3RhZyI6ImltYWdlX3VybGdlbi4xMDgweDEwODAuc2RyLmYyOTM1MCJ9&_nc_ht=scontent.cdninstagram.com&_nc_cat=107&_nc_ohc=uLP4yNJengkQ7kNvgHke40u&edm=APs17CUBAAAA&ccb=7-5&ig_cache_key=MzM2NzM4MzEzNTQyNjU0MzI1Mw%3D%3D.2-ccb7-5&oh=00_AYDSlP8pDYTl3SXaKPoNpSsQQpBsyXKIG_L4aQfyon6f_Q&oe=66488423&_nc_sid=10d13b\n",
      "https://scontent.cdninstagram.com/v/t51.29350-15/442650331_963681225217748_5227501672566131364_n.jpg?stp=dst-jpg_e15&efg=eyJ2ZW5jb2RlX3RhZyI6ImltYWdlX3VybGdlbi43MjB4NzIwLnNkci5mMjkzNTAifQ&_nc_ht=scontent.cdninstagram.com&_nc_cat=108&_nc_ohc=9foykjjogDYQ7kNvgHdbtPw&edm=APs17CUBAAAA&ccb=7-5&ig_cache_key=MzM2NzM1OTA5MDg0OTA4MDcwMg%3D%3D.2-ccb7-5&oh=00_AYCtuE_ZX9XPJnXRLkpLRis9yRSt6qbtdxNr8HYHI3Q4Lw&oe=6648930E&_nc_sid=10d13b\n",
      "https://scontent.cdninstagram.com/v/t51.29350-15/442460099_961734048959754_6957621408182900877_n.heic?stp=dst-jpg_e35&efg=eyJ2ZW5jb2RlX3RhZyI6ImltYWdlX3VybGdlbi4xMDU0eDEwNTQuc2RyLmYyOTM1MCJ9&_nc_ht=scontent.cdninstagram.com&_nc_cat=106&_nc_ohc=im5F-GrdxtYQ7kNvgHIa1VU&edm=APs17CUBAAAA&ccb=7-5&ig_cache_key=MzM2NzM0OTQ3MTA1MzQ1NjIwMw%3D%3D.2-ccb7-5&oh=00_AYAt5dWGYCsIaQsdKa4SD-i6VN-UQ4UxwWTPhKDN13lfMg&oe=66487E1B&_nc_sid=10d13b\n",
      "https://scontent.cdninstagram.com/v/t51.29350-15/444153277_463711942799787_8642027663809871595_n.jpg?stp=dst-jpg_e35&efg=eyJ2ZW5jb2RlX3RhZyI6ImltYWdlX3VybGdlbi4xNDQweDE4MDAuc2RyLmYyOTM1MCJ9&_nc_ht=scontent.cdninstagram.com&_nc_cat=103&_nc_ohc=Rjzy4BY8JgkQ7kNvgHDRdrb&edm=APs17CUBAAAA&ccb=7-5&ig_cache_key=MzM2NzM0ODEwMTM3ODI0MDU4MA%3D%3D.2-ccb7-5&oh=00_AYDz6G2AwjHtR7WNvK48fiLG8RlYTWe5yInFHehRBKfoVg&oe=66487C2B&_nc_sid=10d13b\n",
      "https://scontent.cdninstagram.com/v/t51.29350-15/442562087_816013147078166_7804332846224973185_n.jpg?stp=dst-jpg_e35&efg=eyJ2ZW5jb2RlX3RhZyI6ImltYWdlX3VybGdlbi4xNDQweDE4MDAuc2RyLmYyOTM1MCJ9&_nc_ht=scontent.cdninstagram.com&_nc_cat=102&_nc_ohc=YsoQLsuNw_oQ7kNvgHZU-NZ&edm=APs17CUBAAAA&ccb=7-5&ig_cache_key=MzM2NzM0ODEwMTM3ODQ1ODY1OA%3D%3D.2-ccb7-5&oh=00_AYAGMVk-wz3LpohBCO73uw_LVKs2SJmdMvL8EIgi-5LDsg&oe=66489C6A&_nc_sid=10d13b\n"
     ]
    }
   ],
   "source": [
    "\n",
    "html = driver.page_source\n",
    "\n",
    "if '_aagv' in html:\n",
    "    print(\"YES\")\n",
    "    \n",
    "else:\n",
    "    print(\"NO\")\n",
    "mores = driver.find_elements(By.CSS_SELECTOR, \"span[class='x1lliihq x1plvlek xryxfnj x1n2onr6 x193iq5w xeuugli x1fj9vlw x13faqbe x1vvkbs x1s928wv xhkezso x1gmr53x x1cpjm7i x1fgarty x1943h6x x1i0vuye xvs91rp xo1l8bm x1roi4f4 x1yc453h x10wh9bi x1wdrske x8viiok x18hxmgj']\")\n",
    "for more in mores:\n",
    "    log_in = WebDriverWait(driver, 10).until(EC.element_to_be_clickable((By.CSS_SELECTOR, \"button[type='submit']\"))).click()\n",
    "\n",
    "captions = driver.find_elements(By.CSS_SELECTOR, \"span[class='_ap3a _aaco _aacu _aacx _aad7 _aade']\")\n",
    "images = driver.find_elements(By.CSS_SELECTOR,\"div[class='_aagv']>img\")\n",
    "usernames = driver.find_elements(By.CSS_SELECTOR,\"span[class='_ap3a _aaco _aacw _aacx _aad7 _aade']\")\n",
    "\n",
    "for username in usernames:\n",
    "    print(username.text)\n",
    "    \n",
    "for caption in captions:\n",
    "    print(caption.text)\n",
    "    \n",
    "for image in images:\n",
    "    print(image.get_attribute('src'))\n",
    "\n",
    "\n"
   ]
  },
  {
   "cell_type": "code",
   "execution_count": null,
   "id": "dd47e9c1-be58-49c2-a670-34d9f7ef4a98",
   "metadata": {},
   "outputs": [],
   "source": []
  }
 ],
 "metadata": {
  "kernelspec": {
   "display_name": "Python 3 (ipykernel)",
   "language": "python",
   "name": "python3"
  },
  "language_info": {
   "codemirror_mode": {
    "name": "ipython",
    "version": 3
   },
   "file_extension": ".py",
   "mimetype": "text/x-python",
   "name": "python",
   "nbconvert_exporter": "python",
   "pygments_lexer": "ipython3",
   "version": "3.11.7"
  }
 },
 "nbformat": 4,
 "nbformat_minor": 5
}
